{
 "cells": [
  {
   "cell_type": "code",
   "execution_count": 45,
   "id": "6c7648be",
   "metadata": {},
   "outputs": [],
   "source": [
    "from moviepy.video.io.VideoFileClip import VideoFileClip\n",
    "from moviepy.editor import *\n",
    "# Load the video clip\n",
    "original_video_clip = VideoFileClip(\"clip.mp4\")\n",
    "\n",
    "trimmed_clip1 = video_clip.subclip(0, 3)\n",
    "trimmed_clip2 = video_clip.subclip(3, 8)\n",
    "trimmed_clip3 = video_clip.subclip(8, 13)\n",
    "# trimmed_clip1.write_videofile('1.mp4')\n",
    "# trimmed_clip2.write_videofile('2.mp4')\n",
    "# trimmed_clip3.write_videofile('3.mp4')"
   ]
  },
  {
   "cell_type": "code",
   "execution_count": 62,
   "id": "e7ac8347",
   "metadata": {},
   "outputs": [],
   "source": [
    "trimmed_clip2 = trimmed_clip2.set_audio(None)\n"
   ]
  },
  {
   "cell_type": "code",
   "execution_count": 63,
   "id": "132b9559",
   "metadata": {},
   "outputs": [],
   "source": [
    "final_clip=concatenate_videoclips([trimmed_clip1,trimmed_clip2,trimmed_clip3])\n"
   ]
  },
  {
   "cell_type": "code",
   "execution_count": 48,
   "id": "e388dce5",
   "metadata": {},
   "outputs": [
    {
     "name": "stderr",
     "output_type": "stream",
     "text": [
      "                                                                                \n",
      "\n",
      "\u001b[A\u001b[A                                                                          \n",
      "chunk:  67%|██████████████▋       | 295/442 [14:03<00:00, 2172.52it/s, now=None]\n",
      "\n",
      "chunk:  89%|█████████████████████▎  | 118/133 [11:31<01:27,  5.86s/it, now=None]\u001b[A\u001b[A\n",
      "                                                                                \u001b[A\n",
      "\n",
      "\u001b[A\u001b[A                                                                          \n",
      "chunk:  67%|██████████████▋       | 295/442 [14:03<00:00, 2172.52it/s, now=None]\n",
      "\n",
      "chunk:  89%|█████████████████████▎  | 118/133 [11:31<01:27,  5.86s/it, now=None]\u001b[A\u001b[A\n",
      "chunk:  95%|████████████████████▉ | 294/309 [12:48<00:00, 2043.42it/s, now=None]\u001b[A"
     ]
    },
    {
     "name": "stdout",
     "output_type": "stream",
     "text": [
      "Moviepy - Building video end_final_clip.mp4.\n",
      "MoviePy - Writing audio in end_final_clipTEMP_MPY_wvf_snd.mp3\n"
     ]
    },
    {
     "name": "stderr",
     "output_type": "stream",
     "text": [
      "\n",
      "\n",
      "\n",
      "chunk:   0%|                                  | 0/287 [00:00<?, ?it/s, now=None]\u001b[A\u001b[A\u001b[A\n",
      "\n",
      "\n",
      "chunk:  70%|███████████████▎      | 200/287 [00:00<00:00, 1985.76it/s, now=None]\u001b[A\u001b[A\u001b[A\n",
      "\n",
      "\n",
      "                                                                                \u001b[A\u001b[A\u001b[A\n",
      "\n",
      "\u001b[A\u001b[A                                                                          \n",
      "chunk:  67%|██████████████▋       | 295/442 [14:03<00:00, 2172.52it/s, now=None]\n",
      "\n",
      "chunk:  89%|█████████████████████▎  | 118/133 [11:31<01:27,  5.86s/it, now=None]\u001b[A\u001b[A\n",
      "                                                                                \u001b[A\n",
      "\n",
      "\u001b[A\u001b[A                                                                          \n",
      "chunk:  67%|██████████████▋       | 295/442 [14:03<00:00, 2172.52it/s, now=None]\n",
      "\n",
      "chunk:  89%|█████████████████████▎  | 118/133 [11:31<01:27,  5.86s/it, now=None]\u001b[A\u001b[A\n",
      "chunk:  95%|████████████████████▉ | 294/309 [12:48<00:00, 2043.42it/s, now=None]\u001b[A"
     ]
    },
    {
     "name": "stdout",
     "output_type": "stream",
     "text": [
      "MoviePy - Done.\n",
      "Moviepy - Writing video end_final_clip.mp4\n",
      "\n"
     ]
    },
    {
     "name": "stderr",
     "output_type": "stream",
     "text": [
      "\n",
      "\n",
      "\n",
      "t:   0%|                                      | 0/390 [00:00<?, ?it/s, now=None]\u001b[A\u001b[A\u001b[A\n",
      "\n",
      "\n",
      "t:  15%|████                        | 57/390 [00:00<00:00, 487.86it/s, now=None]\u001b[A\u001b[A\u001b[A\n",
      "\n",
      "\n",
      "t:  27%|███████▎                   | 106/390 [00:00<00:00, 415.61it/s, now=None]\u001b[A\u001b[A\u001b[A\n",
      "\n",
      "\n",
      "t:  38%|██████████▏                | 148/390 [00:00<00:00, 383.83it/s, now=None]\u001b[A\u001b[A\u001b[A\n",
      "\n",
      "\n",
      "t:  48%|████████████▉              | 187/390 [00:00<00:00, 347.99it/s, now=None]\u001b[A\u001b[A\u001b[A\n",
      "\n",
      "\n",
      "t:  57%|███████████████▍           | 223/390 [00:00<00:00, 349.11it/s, now=None]\u001b[A\u001b[A\u001b[A\n",
      "\n",
      "\n",
      "t:  67%|██████████████████▏        | 262/390 [00:00<00:00, 361.00it/s, now=None]\u001b[A\u001b[A\u001b[A\n",
      "\n",
      "\n",
      "t:  77%|████████████████████▋      | 299/390 [00:00<00:00, 354.82it/s, now=None]\u001b[A\u001b[A\u001b[A\n",
      "\n",
      "\n",
      "t:  86%|███████████████████████▏   | 335/390 [00:00<00:00, 345.85it/s, now=None]\u001b[A\u001b[A\u001b[A\n",
      "\n",
      "\n",
      "t:  97%|██████████████████████████ | 377/390 [00:01<00:00, 367.15it/s, now=None]\u001b[A\u001b[A\u001b[A\n",
      "\n",
      "\n",
      "                                                                                \u001b[A\u001b[A\u001b[A\n",
      "\n",
      "\u001b[A\u001b[A                                                                          \n",
      "chunk:  67%|██████████████▋       | 295/442 [14:04<00:00, 2172.52it/s, now=None]\n",
      "\n",
      "chunk:  89%|█████████████████████▎  | 118/133 [11:32<01:28,  5.87s/it, now=None]\u001b[A\u001b[A\n",
      "                                                                                \u001b[A\n",
      "\n",
      "\u001b[A\u001b[A                                                                          \n",
      "chunk:  67%|██████████████▋       | 295/442 [14:04<00:00, 2172.52it/s, now=None]\n",
      "\n",
      "chunk:  89%|█████████████████████▎  | 118/133 [11:32<01:28,  5.87s/it, now=None]\u001b[A\u001b[A\n",
      "chunk:  95%|████████████████████▉ | 294/309 [12:49<00:00, 2043.42it/s, now=None]\u001b[A"
     ]
    },
    {
     "name": "stdout",
     "output_type": "stream",
     "text": [
      "Moviepy - Done !\n",
      "Moviepy - video ready end_final_clip.mp4\n"
     ]
    }
   ],
   "source": [
    "final_clip.write_videofile(\"end_final_clip.mp4\")\n"
   ]
  },
  {
   "cell_type": "code",
   "execution_count": 50,
   "id": "9ff2bc9a",
   "metadata": {},
   "outputs": [
    {
     "name": "stdout",
     "output_type": "stream",
     "text": [
      "Defaulting to user installation because normal site-packages is not writeable\n",
      "Requirement already satisfied: gTTS in /home/archil/.local/lib/python3.10/site-packages (2.3.2)\n",
      "Requirement already satisfied: requests<3,>=2.27 in /home/archil/.local/lib/python3.10/site-packages (from gTTS) (2.28.1)\n",
      "Requirement already satisfied: click<8.2,>=7.1 in /home/archil/.local/lib/python3.10/site-packages (from gTTS) (8.1.3)\n",
      "Requirement already satisfied: charset-normalizer<3,>=2 in /home/archil/.local/lib/python3.10/site-packages (from requests<3,>=2.27->gTTS) (2.1.1)\n",
      "Requirement already satisfied: idna<4,>=2.5 in /home/archil/.local/lib/python3.10/site-packages (from requests<3,>=2.27->gTTS) (3.4)\n",
      "Requirement already satisfied: urllib3<1.27,>=1.21.1 in /home/archil/.local/lib/python3.10/site-packages (from requests<3,>=2.27->gTTS) (1.26.12)\n",
      "Requirement already satisfied: certifi>=2017.4.17 in /home/archil/.local/lib/python3.10/site-packages (from requests<3,>=2.27->gTTS) (2022.9.24)\n",
      "\u001b[33mDEPRECATION: distro-info 1.1build1 has a non-standard version number. pip 23.3 will enforce this behaviour change. A possible replacement is to upgrade to a newer version of distro-info or contact the author to suggest that they release a version with a conforming version number. Discussion can be found at https://github.com/pypa/pip/issues/12063\u001b[0m\u001b[33m\n",
      "\u001b[0m"
     ]
    }
   ],
   "source": [
    "!pip install gTTS\n"
   ]
  },
  {
   "cell_type": "code",
   "execution_count": 57,
   "id": "466379df",
   "metadata": {},
   "outputs": [
    {
     "data": {
      "text/plain": [
       "0.5"
      ]
     },
     "execution_count": 57,
     "metadata": {},
     "output_type": "execute_result"
    }
   ],
   "source": [
    "from gtts import gTTS\n",
    "\n",
    "text = \"is is a text-to-speech example.\"\n",
    "tts = gTTS(text)\n",
    "tts.save(\"output.mp3\")\n"
   ]
  },
  {
   "cell_type": "code",
   "execution_count": null,
   "id": "ce0b504a",
   "metadata": {},
   "outputs": [],
   "source": []
  }
 ],
 "metadata": {
  "kernelspec": {
   "display_name": "Python 3 (ipykernel)",
   "language": "python",
   "name": "python3"
  },
  "language_info": {
   "codemirror_mode": {
    "name": "ipython",
    "version": 3
   },
   "file_extension": ".py",
   "mimetype": "text/x-python",
   "name": "python",
   "nbconvert_exporter": "python",
   "pygments_lexer": "ipython3",
   "version": "3.10.12"
  }
 },
 "nbformat": 4,
 "nbformat_minor": 5
}
