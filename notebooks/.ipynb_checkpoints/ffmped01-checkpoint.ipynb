{
 "cells": [
  {
   "cell_type": "code",
   "execution_count": 5,
   "id": "04a77811",
   "metadata": {},
   "outputs": [
    {
     "name": "stdout",
     "output_type": "stream",
     "text": [
      "Defaulting to user installation because normal site-packages is not writeable\n",
      "Requirement already satisfied: ffmpeg-python in /home/fx/.local/lib/python3.10/site-packages (0.2.0)\n",
      "Requirement already satisfied: future in /usr/lib/python3/dist-packages (from ffmpeg-python) (0.18.2)\n"
     ]
    }
   ],
   "source": [
    "!pip install ffmpeg-python\n"
   ]
  },
  {
   "cell_type": "code",
   "execution_count": 10,
   "id": "ee64d6e6-004b-4e18-8741-cb766bacf645",
   "metadata": {},
   "outputs": [
    {
     "name": "stdout",
     "output_type": "stream",
     "text": [
      "Defaulting to user installation because normal site-packages is not writeable\n",
      "\u001b[31mERROR: Could not find a version that satisfies the requirement speech_recognition (from versions: none)\u001b[0m\u001b[31m\n",
      "\u001b[0m\u001b[31mERROR: No matching distribution found for speech_recognition\u001b[0m\u001b[31m\n",
      "\u001b[0m"
     ]
    }
   ],
   "source": [
    "\n",
    "!pip install speech_recognition"
   ]
  },
  {
   "cell_type": "code",
   "execution_count": 9,
   "id": "4b62efff",
   "metadata": {},
   "outputs": [],
   "source": [
    "import ffmpeg\n"
   ]
  },
  {
   "cell_type": "code",
   "execution_count": 3,
   "id": "6faa391c",
   "metadata": {},
   "outputs": [
    {
     "ename": "NameError",
     "evalue": "name 'sr' is not defined",
     "output_type": "error",
     "traceback": [
      "\u001b[0;31m---------------------------------------------------------------------------\u001b[0m",
      "\u001b[0;31mNameError\u001b[0m                                 Traceback (most recent call last)",
      "Cell \u001b[0;32mIn[3], line 1\u001b[0m\n\u001b[0;32m----> 1\u001b[0m recognizer \u001b[38;5;241m=\u001b[39m \u001b[43msr\u001b[49m\u001b[38;5;241m.\u001b[39mRecognizer()\n\u001b[1;32m      2\u001b[0m audio_file \u001b[38;5;241m=\u001b[39m sr\u001b[38;5;241m.\u001b[39mAudioFile(\u001b[38;5;124m'\u001b[39m\u001b[38;5;124meng_clip.mp4\u001b[39m\u001b[38;5;124m'\u001b[39m)\n",
      "\u001b[0;31mNameError\u001b[0m: name 'sr' is not defined"
     ]
    }
   ],
   "source": [
    "recognizer = sr.Recognizer()\n",
    "audio_file = sr.AudioFile('eng_clip.mp4')"
   ]
  },
  {
   "cell_type": "code",
   "execution_count": 20,
   "id": "cfd1b38c",
   "metadata": {},
   "outputs": [
    {
     "data": {
      "text/plain": [
       "speech_recognition.AudioFile"
      ]
     },
     "execution_count": 20,
     "metadata": {},
     "output_type": "execute_result"
    }
   ],
   "source": [
    "type(audio_file)"
   ]
  },
  {
   "cell_type": "code",
   "execution_count": 8,
   "id": "95ea5d82",
   "metadata": {},
   "outputs": [
    {
     "ename": "NameError",
     "evalue": "name 'audio_file' is not defined",
     "output_type": "error",
     "traceback": [
      "\u001b[0;31m---------------------------------------------------------------------------\u001b[0m",
      "\u001b[0;31mNameError\u001b[0m                                 Traceback (most recent call last)",
      "Cell \u001b[0;32mIn[8], line 1\u001b[0m\n\u001b[0;32m----> 1\u001b[0m \u001b[38;5;28;01mwith\u001b[39;00m \u001b[43maudio_file\u001b[49m \u001b[38;5;28;01mas\u001b[39;00m source:\n\u001b[1;32m      2\u001b[0m     audio \u001b[38;5;241m=\u001b[39m recognizer\u001b[38;5;241m.\u001b[39mrecord(source)  \u001b[38;5;66;03m# Record the entire audio\u001b[39;00m\n\u001b[1;32m      4\u001b[0m \u001b[38;5;28;01mtry\u001b[39;00m:\n",
      "\u001b[0;31mNameError\u001b[0m: name 'audio_file' is not defined"
     ]
    }
   ],
   "source": [
    "with audio_file as source:\n",
    "    audio = recognizer.record(source)  # Record the entire audio\n",
    "\n",
    "try:\n",
    "        recognized_text = recognizer.recognize_google(audio)\n",
    "        lines = recognized_text.split('\\n')\n",
    "except sr.UnknownValueError:\n",
    "        pass        \n",
    "lines    "
   ]
  },
  {
   "cell_type": "code",
   "execution_count": 38,
   "id": "094d2550",
   "metadata": {},
   "outputs": [
    {
     "ename": "AssertionError",
     "evalue": "``audio_data`` must be audio data",
     "output_type": "error",
     "traceback": [
      "\u001b[0;31m---------------------------------------------------------------------------\u001b[0m",
      "\u001b[0;31mAssertionError\u001b[0m                            Traceback (most recent call last)",
      "Cell \u001b[0;32mIn[38], line 29\u001b[0m\n\u001b[1;32m     25\u001b[0m audio \u001b[38;5;241m=\u001b[39m AudioSegment\u001b[38;5;241m.\u001b[39mfrom_wav(output_audio_path)\n\u001b[1;32m     27\u001b[0m \u001b[38;5;66;03m# Play the audio using pydub's playback module\u001b[39;00m\n\u001b[1;32m     28\u001b[0m \u001b[38;5;66;03m# playback.play(audio)\u001b[39;00m\n\u001b[0;32m---> 29\u001b[0m recognized_text \u001b[38;5;241m=\u001b[39m \u001b[43mrecognizer\u001b[49m\u001b[38;5;241;43m.\u001b[39;49m\u001b[43mrecognize_google\u001b[49m\u001b[43m(\u001b[49m\u001b[43maudio\u001b[49m\u001b[43m)\u001b[49m\n\u001b[1;32m     30\u001b[0m recognized_text\n",
      "File \u001b[0;32m~/.local/lib/python3.10/site-packages/speech_recognition/__init__.py:689\u001b[0m, in \u001b[0;36mRecognizer.recognize_google\u001b[0;34m(self, audio_data, key, language, pfilter, show_all, with_confidence)\u001b[0m\n\u001b[1;32m    673\u001b[0m \u001b[38;5;28;01mdef\u001b[39;00m \u001b[38;5;21mrecognize_google\u001b[39m(\u001b[38;5;28mself\u001b[39m, audio_data, key\u001b[38;5;241m=\u001b[39m\u001b[38;5;28;01mNone\u001b[39;00m, language\u001b[38;5;241m=\u001b[39m\u001b[38;5;124m\"\u001b[39m\u001b[38;5;124men-US\u001b[39m\u001b[38;5;124m\"\u001b[39m, pfilter\u001b[38;5;241m=\u001b[39m\u001b[38;5;241m0\u001b[39m, show_all\u001b[38;5;241m=\u001b[39m\u001b[38;5;28;01mFalse\u001b[39;00m, with_confidence\u001b[38;5;241m=\u001b[39m\u001b[38;5;28;01mFalse\u001b[39;00m):\n\u001b[1;32m    674\u001b[0m     \u001b[38;5;124;03m\"\"\"\u001b[39;00m\n\u001b[1;32m    675\u001b[0m \u001b[38;5;124;03m    Performs speech recognition on ``audio_data`` (an ``AudioData`` instance), using the Google Speech Recognition API.\u001b[39;00m\n\u001b[1;32m    676\u001b[0m \n\u001b[0;32m   (...)\u001b[0m\n\u001b[1;32m    687\u001b[0m \u001b[38;5;124;03m    Raises a ``speech_recognition.UnknownValueError`` exception if the speech is unintelligible. Raises a ``speech_recognition.RequestError`` exception if the speech recognition operation failed, if the key isn't valid, or if there is no internet connection.\u001b[39;00m\n\u001b[1;32m    688\u001b[0m \u001b[38;5;124;03m    \"\"\"\u001b[39;00m\n\u001b[0;32m--> 689\u001b[0m     \u001b[38;5;28;01massert\u001b[39;00m \u001b[38;5;28misinstance\u001b[39m(audio_data, AudioData), \u001b[38;5;124m\"\u001b[39m\u001b[38;5;124m``audio_data`` must be audio data\u001b[39m\u001b[38;5;124m\"\u001b[39m\n\u001b[1;32m    690\u001b[0m     \u001b[38;5;28;01massert\u001b[39;00m key \u001b[38;5;129;01mis\u001b[39;00m \u001b[38;5;28;01mNone\u001b[39;00m \u001b[38;5;129;01mor\u001b[39;00m \u001b[38;5;28misinstance\u001b[39m(key, \u001b[38;5;28mstr\u001b[39m), \u001b[38;5;124m\"\u001b[39m\u001b[38;5;124m``key`` must be ``None`` or a string\u001b[39m\u001b[38;5;124m\"\u001b[39m\n\u001b[1;32m    691\u001b[0m     \u001b[38;5;28;01massert\u001b[39;00m \u001b[38;5;28misinstance\u001b[39m(language, \u001b[38;5;28mstr\u001b[39m), \u001b[38;5;124m\"\u001b[39m\u001b[38;5;124m``language`` must be a string\u001b[39m\u001b[38;5;124m\"\u001b[39m\n",
      "\u001b[0;31mAssertionError\u001b[0m: ``audio_data`` must be audio data"
     ]
    }
   ],
   "source": [
    "import speech_recognition as sr\n",
    "from pydub import AudioSegment\n",
    "from IPython.display import Audio\n",
    "import pydub.playback as playback\n",
    "\n",
    "def save_audio_from_video(video_path, output_path, format=\"wav\"):\n",
    "    audio = AudioSegment.from_file(video_path)\n",
    "    audio.export(output_path, format=format)\n",
    "\n",
    "recognizer = sr.Recognizer()\n",
    "\n",
    "video_path = 'eng_clip.mp4'\n",
    "output_audio_path = 'output_audio.wav'\n",
    "\n",
    "# Extract audio from the video and save it as WAV\n",
    "# save_audio_from_video(video_path, output_audio_path, format=\"wav\")\n",
    "\n",
    "audio_file = sr.AudioFile(output_audio_path)\n",
    "\n",
    "# with audio_file as source:\n",
    "#     audio = recognizer.record(source)  # Record the entire audio\n",
    "\n",
    "\n",
    "# recognized_text\n",
    "audio = AudioSegment.from_wav(output_audio_path)\n",
    "\n",
    "# Play the audio using pydub's playback module\n",
    "# playback.play(audio)\n",
    "recognized_text = recognizer.recognize_google(audio)\n",
    "recognized_text\n"
   ]
  },
  {
   "cell_type": "code",
   "execution_count": 27,
   "id": "ad3b2a86",
   "metadata": {},
   "outputs": [
    {
     "name": "stdout",
     "output_type": "stream",
     "text": [
      "Defaulting to user installation because normal site-packages is not writeable\n",
      "Collecting pydub\n",
      "  Using cached pydub-0.25.1-py2.py3-none-any.whl (32 kB)\n",
      "\u001b[33mDEPRECATION: distro-info 1.1build1 has a non-standard version number. pip 23.3 will enforce this behaviour change. A possible replacement is to upgrade to a newer version of distro-info or contact the author to suggest that they release a version with a conforming version number. Discussion can be found at https://github.com/pypa/pip/issues/12063\u001b[0m\u001b[33m\n",
      "\u001b[0mInstalling collected packages: pydub\n",
      "Successfully installed pydub-0.25.1\n"
     ]
    }
   ],
   "source": [
    "!pip install pydub"
   ]
  },
  {
   "cell_type": "code",
   "execution_count": 41,
   "id": "fbda1785",
   "metadata": {},
   "outputs": [
    {
     "name": "stdout",
     "output_type": "stream",
     "text": [
      "Recognized text: hello my name is on riyasat sir I am studying marketing at the University of Texas I am a member of the American Marketing Association and after Cafe which are dedicated to shaving future process leader I have to improve my business knowledge and you can see this and English as well as other companies I am service I know that I can be an asset and any company and situation and I have the year\n"
     ]
    }
   ],
   "source": [
    "import pydub.playback as playback\n",
    "import speech_recognition as sr\n",
    "from pydub import AudioSegment\n",
    "\n",
    "def save_audio_from_video(video_path, output_path, format=\"wav\"):\n",
    "    audio = AudioSegment.from_file(video_path)\n",
    "    audio.export(output_path, format=format)\n",
    "\n",
    "video_path = 'intro.mp4'\n",
    "output_audio_path = 'output_audio.wav'\n",
    "\n",
    "# Extract audio from the video and save it as WAV\n",
    "save_audio_from_video(video_path, output_audio_path, format=\"wav\")\n",
    "\n",
    "# Load the audio using pydub\n",
    "audio = AudioSegment.from_wav(output_audio_path)\n",
    "\n",
    "# Initialize the speech recognizer\n",
    "recognizer = sr.Recognizer()\n",
    "\n",
    "# Play the audio using pydub's playback module\n",
    "# playback.play(audio)\n",
    "\n",
    "with sr.AudioFile(output_audio_path) as source:\n",
    "    audio_data = recognizer.record(source)\n",
    "    recognized_text = recognizer.recognize_google(audio_data)\n",
    "\n",
    "print(\"Recognized text:\", recognized_text)\n"
   ]
  },
  {
   "cell_type": "code",
   "execution_count": 43,
   "id": "e2673e4e",
   "metadata": {},
   "outputs": [
    {
     "ename": "FileNotFoundError",
     "evalue": "[Errno 2] No such file or directory: 'keyword.wav'",
     "output_type": "error",
     "traceback": [
      "\u001b[0;31m---------------------------------------------------------------------------\u001b[0m",
      "\u001b[0;31mFileNotFoundError\u001b[0m                         Traceback (most recent call last)",
      "Cell \u001b[0;32mIn[43], line 8\u001b[0m\n\u001b[1;32m      6\u001b[0m \u001b[38;5;66;03m# Load the target keyword\u001b[39;00m\n\u001b[1;32m      7\u001b[0m keyword \u001b[38;5;241m=\u001b[39m \u001b[38;5;124m\"\u001b[39m\u001b[38;5;124mstudying\u001b[39m\u001b[38;5;124m\"\u001b[39m\n\u001b[0;32m----> 8\u001b[0m keyword_audio \u001b[38;5;241m=\u001b[39m \u001b[43mpydub\u001b[49m\u001b[38;5;241;43m.\u001b[39;49m\u001b[43mAudioSegment\u001b[49m\u001b[38;5;241;43m.\u001b[39;49m\u001b[43mfrom_wav\u001b[49m\u001b[43m(\u001b[49m\u001b[38;5;124;43m'\u001b[39;49m\u001b[38;5;124;43mkeyword.wav\u001b[39;49m\u001b[38;5;124;43m'\u001b[39;49m\u001b[43m)\u001b[49m  \u001b[38;5;66;03m# Replace with your keyword audio file\u001b[39;00m\n\u001b[1;32m     10\u001b[0m \u001b[38;5;66;03m# Load the main audio file\u001b[39;00m\n\u001b[1;32m     11\u001b[0m main_audio \u001b[38;5;241m=\u001b[39m pydub\u001b[38;5;241m.\u001b[39mAudioSegment\u001b[38;5;241m.\u001b[39mfrom_wav(audio)  \u001b[38;5;66;03m# Replace with your main audio file\u001b[39;00m\n",
      "File \u001b[0;32m~/.local/lib/python3.10/site-packages/pydub/audio_segment.py:808\u001b[0m, in \u001b[0;36mAudioSegment.from_wav\u001b[0;34m(cls, file, parameters)\u001b[0m\n\u001b[1;32m    806\u001b[0m \u001b[38;5;129m@classmethod\u001b[39m\n\u001b[1;32m    807\u001b[0m \u001b[38;5;28;01mdef\u001b[39;00m \u001b[38;5;21mfrom_wav\u001b[39m(\u001b[38;5;28mcls\u001b[39m, file, parameters\u001b[38;5;241m=\u001b[39m\u001b[38;5;28;01mNone\u001b[39;00m):\n\u001b[0;32m--> 808\u001b[0m     \u001b[38;5;28;01mreturn\u001b[39;00m \u001b[38;5;28;43mcls\u001b[39;49m\u001b[38;5;241;43m.\u001b[39;49m\u001b[43mfrom_file\u001b[49m\u001b[43m(\u001b[49m\u001b[43mfile\u001b[49m\u001b[43m,\u001b[49m\u001b[43m \u001b[49m\u001b[38;5;124;43m'\u001b[39;49m\u001b[38;5;124;43mwav\u001b[39;49m\u001b[38;5;124;43m'\u001b[39;49m\u001b[43m,\u001b[49m\u001b[43m \u001b[49m\u001b[43mparameters\u001b[49m\u001b[38;5;241;43m=\u001b[39;49m\u001b[43mparameters\u001b[49m\u001b[43m)\u001b[49m\n",
      "File \u001b[0;32m~/.local/lib/python3.10/site-packages/pydub/audio_segment.py:651\u001b[0m, in \u001b[0;36mAudioSegment.from_file\u001b[0;34m(cls, file, format, codec, parameters, start_second, duration, **kwargs)\u001b[0m\n\u001b[1;32m    649\u001b[0m \u001b[38;5;28;01mexcept\u001b[39;00m \u001b[38;5;167;01mTypeError\u001b[39;00m:\n\u001b[1;32m    650\u001b[0m     filename \u001b[38;5;241m=\u001b[39m \u001b[38;5;28;01mNone\u001b[39;00m\n\u001b[0;32m--> 651\u001b[0m file, close_file \u001b[38;5;241m=\u001b[39m \u001b[43m_fd_or_path_or_tempfile\u001b[49m\u001b[43m(\u001b[49m\u001b[43mfile\u001b[49m\u001b[43m,\u001b[49m\u001b[43m \u001b[49m\u001b[38;5;124;43m'\u001b[39;49m\u001b[38;5;124;43mrb\u001b[39;49m\u001b[38;5;124;43m'\u001b[39;49m\u001b[43m,\u001b[49m\u001b[43m \u001b[49m\u001b[43mtempfile\u001b[49m\u001b[38;5;241;43m=\u001b[39;49m\u001b[38;5;28;43;01mFalse\u001b[39;49;00m\u001b[43m)\u001b[49m\n\u001b[1;32m    653\u001b[0m \u001b[38;5;28;01mif\u001b[39;00m \u001b[38;5;28mformat\u001b[39m:\n\u001b[1;32m    654\u001b[0m     \u001b[38;5;28mformat\u001b[39m \u001b[38;5;241m=\u001b[39m \u001b[38;5;28mformat\u001b[39m\u001b[38;5;241m.\u001b[39mlower()\n",
      "File \u001b[0;32m~/.local/lib/python3.10/site-packages/pydub/utils.py:60\u001b[0m, in \u001b[0;36m_fd_or_path_or_tempfile\u001b[0;34m(fd, mode, tempfile)\u001b[0m\n\u001b[1;32m     57\u001b[0m     close_fd \u001b[38;5;241m=\u001b[39m \u001b[38;5;28;01mTrue\u001b[39;00m\n\u001b[1;32m     59\u001b[0m \u001b[38;5;28;01mif\u001b[39;00m \u001b[38;5;28misinstance\u001b[39m(fd, basestring):\n\u001b[0;32m---> 60\u001b[0m     fd \u001b[38;5;241m=\u001b[39m \u001b[38;5;28;43mopen\u001b[39;49m\u001b[43m(\u001b[49m\u001b[43mfd\u001b[49m\u001b[43m,\u001b[49m\u001b[43m \u001b[49m\u001b[43mmode\u001b[49m\u001b[38;5;241;43m=\u001b[39;49m\u001b[43mmode\u001b[49m\u001b[43m)\u001b[49m\n\u001b[1;32m     61\u001b[0m     close_fd \u001b[38;5;241m=\u001b[39m \u001b[38;5;28;01mTrue\u001b[39;00m\n\u001b[1;32m     63\u001b[0m \u001b[38;5;28;01mtry\u001b[39;00m:\n",
      "\u001b[0;31mFileNotFoundError\u001b[0m: [Errno 2] No such file or directory: 'keyword.wav'"
     ]
    }
   ],
   "source": [
    "import pydub.playback as playback\n",
    "import pydub\n",
    "import numpy as np\n",
    "import matplotlib.pyplot as plt\n",
    "\n",
    "# Load the target keyword\n",
    "keyword = \"studying\"\n",
    "keyword_audio = pydub.AudioSegment.from_wav('keyword.wav')  # Replace with your keyword audio file\n",
    "\n",
    "# Load the main audio file\n",
    "main_audio = pydub.AudioSegment.from_wav(audio)  # Replace with your main audio file\n",
    "\n",
    "# Create an array for keyword audio samples\n",
    "keyword_samples = np.array(keyword_audio.get_array_of_samples())\n",
    "\n",
    "# Create an array for main audio samples\n",
    "main_samples = np.array(main_audio.get_array_of_samples())\n",
    "\n",
    "# Use Dynamic Time Warping (DTW) to align the keyword in the main audio\n",
    "from pydub.playback import DTWAligner\n",
    "dtw = DTWAligner(keyword_samples, main_samples)\n",
    "match_positions = dtw.align()\n",
    "\n",
    "# Plot the alignment (optional)\n",
    "plt.figure(figsize=(10, 4))\n",
    "plt.plot(dtw.get_alignment_array() / dtw.get_alignment_array().max(), label='Alignment')\n",
    "plt.plot(main_samples / main_samples.max(), label='Main Audio')\n",
    "plt.plot(keyword_samples / keyword_samples.max(), label='Keyword')\n",
    "plt.xlabel('Samples')\n",
    "plt.ylabel('Amplitude')\n",
    "plt.legend()\n",
    "plt.title('DTW Alignment')\n",
    "plt.show()\n",
    "\n",
    "# Display match positions\n",
    "print(\"Match positions:\", match_positions)\n"
   ]
  },
  {
   "cell_type": "code",
   "execution_count": 45,
   "id": "78525393",
   "metadata": {},
   "outputs": [
    {
     "ename": "TypeError",
     "evalue": "Invalid file: <pydub.audio_segment.AudioSegment object at 0x7ff7f4fe0d90>",
     "output_type": "error",
     "traceback": [
      "\u001b[0;31m---------------------------------------------------------------------------\u001b[0m",
      "\u001b[0;31mTypeError\u001b[0m                                 Traceback (most recent call last)",
      "Cell \u001b[0;32mIn[45], line 8\u001b[0m\n\u001b[1;32m      5\u001b[0m wav_file_path \u001b[38;5;241m=\u001b[39m audio\n\u001b[1;32m      7\u001b[0m \u001b[38;5;66;03m# Load the audio file\u001b[39;00m\n\u001b[0;32m----> 8\u001b[0m signal, sample_rate \u001b[38;5;241m=\u001b[39m \u001b[43mlibrosa\u001b[49m\u001b[38;5;241;43m.\u001b[39;49m\u001b[43mload\u001b[49m\u001b[43m(\u001b[49m\u001b[43mwav_file_path\u001b[49m\u001b[43m)\u001b[49m\n\u001b[1;32m     10\u001b[0m \u001b[38;5;66;03m# Find the index of the word \"chatgpt\" in the audio file\u001b[39;00m\n\u001b[1;32m     11\u001b[0m word_start_index \u001b[38;5;241m=\u001b[39m librosa\u001b[38;5;241m.\u001b[39mfind_peak(signal, s\u001b[38;5;241m=\u001b[39msample_rate, threshold\u001b[38;5;241m=\u001b[39m\u001b[38;5;241m0.01\u001b[39m)\n",
      "File \u001b[0;32m~/.local/lib/python3.10/site-packages/librosa/core/audio.py:176\u001b[0m, in \u001b[0;36mload\u001b[0;34m(path, sr, mono, offset, duration, dtype, res_type)\u001b[0m\n\u001b[1;32m    173\u001b[0m \u001b[38;5;28;01melse\u001b[39;00m:\n\u001b[1;32m    174\u001b[0m     \u001b[38;5;66;03m# Otherwise try soundfile first, and then fall back if necessary\u001b[39;00m\n\u001b[1;32m    175\u001b[0m     \u001b[38;5;28;01mtry\u001b[39;00m:\n\u001b[0;32m--> 176\u001b[0m         y, sr_native \u001b[38;5;241m=\u001b[39m \u001b[43m__soundfile_load\u001b[49m\u001b[43m(\u001b[49m\u001b[43mpath\u001b[49m\u001b[43m,\u001b[49m\u001b[43m \u001b[49m\u001b[43moffset\u001b[49m\u001b[43m,\u001b[49m\u001b[43m \u001b[49m\u001b[43mduration\u001b[49m\u001b[43m,\u001b[49m\u001b[43m \u001b[49m\u001b[43mdtype\u001b[49m\u001b[43m)\u001b[49m\n\u001b[1;32m    178\u001b[0m     \u001b[38;5;28;01mexcept\u001b[39;00m sf\u001b[38;5;241m.\u001b[39mSoundFileRuntimeError \u001b[38;5;28;01mas\u001b[39;00m exc:\n\u001b[1;32m    179\u001b[0m         \u001b[38;5;66;03m# If soundfile failed, try audioread instead\u001b[39;00m\n\u001b[1;32m    180\u001b[0m         \u001b[38;5;28;01mif\u001b[39;00m \u001b[38;5;28misinstance\u001b[39m(path, (\u001b[38;5;28mstr\u001b[39m, pathlib\u001b[38;5;241m.\u001b[39mPurePath)):\n",
      "File \u001b[0;32m~/.local/lib/python3.10/site-packages/librosa/core/audio.py:209\u001b[0m, in \u001b[0;36m__soundfile_load\u001b[0;34m(path, offset, duration, dtype)\u001b[0m\n\u001b[1;32m    206\u001b[0m     context \u001b[38;5;241m=\u001b[39m path\n\u001b[1;32m    207\u001b[0m \u001b[38;5;28;01melse\u001b[39;00m:\n\u001b[1;32m    208\u001b[0m     \u001b[38;5;66;03m# Otherwise, create the soundfile object\u001b[39;00m\n\u001b[0;32m--> 209\u001b[0m     context \u001b[38;5;241m=\u001b[39m \u001b[43msf\u001b[49m\u001b[38;5;241;43m.\u001b[39;49m\u001b[43mSoundFile\u001b[49m\u001b[43m(\u001b[49m\u001b[43mpath\u001b[49m\u001b[43m)\u001b[49m\n\u001b[1;32m    211\u001b[0m \u001b[38;5;28;01mwith\u001b[39;00m context \u001b[38;5;28;01mas\u001b[39;00m sf_desc:\n\u001b[1;32m    212\u001b[0m     sr_native \u001b[38;5;241m=\u001b[39m sf_desc\u001b[38;5;241m.\u001b[39msamplerate\n",
      "File \u001b[0;32m~/.local/lib/python3.10/site-packages/soundfile.py:658\u001b[0m, in \u001b[0;36mSoundFile.__init__\u001b[0;34m(self, file, mode, samplerate, channels, subtype, endian, format, closefd)\u001b[0m\n\u001b[1;32m    655\u001b[0m \u001b[38;5;28mself\u001b[39m\u001b[38;5;241m.\u001b[39m_mode \u001b[38;5;241m=\u001b[39m mode\n\u001b[1;32m    656\u001b[0m \u001b[38;5;28mself\u001b[39m\u001b[38;5;241m.\u001b[39m_info \u001b[38;5;241m=\u001b[39m _create_info_struct(file, mode, samplerate, channels,\n\u001b[1;32m    657\u001b[0m                                  \u001b[38;5;28mformat\u001b[39m, subtype, endian)\n\u001b[0;32m--> 658\u001b[0m \u001b[38;5;28mself\u001b[39m\u001b[38;5;241m.\u001b[39m_file \u001b[38;5;241m=\u001b[39m \u001b[38;5;28;43mself\u001b[39;49m\u001b[38;5;241;43m.\u001b[39;49m\u001b[43m_open\u001b[49m\u001b[43m(\u001b[49m\u001b[43mfile\u001b[49m\u001b[43m,\u001b[49m\u001b[43m \u001b[49m\u001b[43mmode_int\u001b[49m\u001b[43m,\u001b[49m\u001b[43m \u001b[49m\u001b[43mclosefd\u001b[49m\u001b[43m)\u001b[49m\n\u001b[1;32m    659\u001b[0m \u001b[38;5;28;01mif\u001b[39;00m \u001b[38;5;28mset\u001b[39m(mode)\u001b[38;5;241m.\u001b[39missuperset(\u001b[38;5;124m'\u001b[39m\u001b[38;5;124mr+\u001b[39m\u001b[38;5;124m'\u001b[39m) \u001b[38;5;129;01mand\u001b[39;00m \u001b[38;5;28mself\u001b[39m\u001b[38;5;241m.\u001b[39mseekable():\n\u001b[1;32m    660\u001b[0m     \u001b[38;5;66;03m# Move write position to 0 (like in Python file objects)\u001b[39;00m\n\u001b[1;32m    661\u001b[0m     \u001b[38;5;28mself\u001b[39m\u001b[38;5;241m.\u001b[39mseek(\u001b[38;5;241m0\u001b[39m)\n",
      "File \u001b[0;32m~/.local/lib/python3.10/site-packages/soundfile.py:1212\u001b[0m, in \u001b[0;36mSoundFile._open\u001b[0;34m(self, file, mode_int, closefd)\u001b[0m\n\u001b[1;32m   1209\u001b[0m     file_ptr \u001b[38;5;241m=\u001b[39m _snd\u001b[38;5;241m.\u001b[39msf_open_virtual(\u001b[38;5;28mself\u001b[39m\u001b[38;5;241m.\u001b[39m_init_virtual_io(file),\n\u001b[1;32m   1210\u001b[0m                                     mode_int, \u001b[38;5;28mself\u001b[39m\u001b[38;5;241m.\u001b[39m_info, _ffi\u001b[38;5;241m.\u001b[39mNULL)\n\u001b[1;32m   1211\u001b[0m \u001b[38;5;28;01melse\u001b[39;00m:\n\u001b[0;32m-> 1212\u001b[0m     \u001b[38;5;28;01mraise\u001b[39;00m \u001b[38;5;167;01mTypeError\u001b[39;00m(\u001b[38;5;124m\"\u001b[39m\u001b[38;5;124mInvalid file: \u001b[39m\u001b[38;5;132;01m{0!r}\u001b[39;00m\u001b[38;5;124m\"\u001b[39m\u001b[38;5;241m.\u001b[39mformat(\u001b[38;5;28mself\u001b[39m\u001b[38;5;241m.\u001b[39mname))\n\u001b[1;32m   1213\u001b[0m \u001b[38;5;28;01mif\u001b[39;00m file_ptr \u001b[38;5;241m==\u001b[39m _ffi\u001b[38;5;241m.\u001b[39mNULL:\n\u001b[1;32m   1214\u001b[0m     \u001b[38;5;66;03m# get the actual error code\u001b[39;00m\n\u001b[1;32m   1215\u001b[0m     err \u001b[38;5;241m=\u001b[39m _snd\u001b[38;5;241m.\u001b[39msf_error(file_ptr)\n",
      "\u001b[0;31mTypeError\u001b[0m: Invalid file: <pydub.audio_segment.AudioSegment object at 0x7ff7f4fe0d90>"
     ]
    }
   ],
   "source": [
    "import librosa\n",
    "import soundfile\n",
    "\n",
    "# Get the path to the audio file\n",
    "wav_file_path = audio\n",
    "\n",
    "# Load the audio file\n",
    "signal, sample_rate = librosa.load(wav_file_path)\n",
    "\n",
    "# Find the index of the word \"chatgpt\" in the audio file\n",
    "word_start_index = librosa.find_peak(signal, s=sample_rate, threshold=0.01)\n",
    "\n",
    "# Get the timestamp of the word \"chatgpt\"\n",
    "word_start_timestamp = word_start_index / sample_rate\n",
    "\n",
    "# Print the timestamp of the word \"chatgpt\"\n",
    "print(word_start_timestamp)\n"
   ]
  },
  {
   "cell_type": "code",
   "execution_count": 46,
   "id": "14bdc3ff",
   "metadata": {},
   "outputs": [
    {
     "name": "stdout",
     "output_type": "stream",
     "text": [
      "Defaulting to user installation because normal site-packages is not writeable\n",
      "Requirement already satisfied: librosa in /home/archil/.local/lib/python3.10/site-packages (0.10.0.post2)\n",
      "Requirement already satisfied: audioread>=2.1.9 in /home/archil/.local/lib/python3.10/site-packages (from librosa) (3.0.0)\n",
      "Requirement already satisfied: numpy!=1.22.0,!=1.22.1,!=1.22.2,>=1.20.3 in /home/archil/.local/lib/python3.10/site-packages (from librosa) (1.23.5)\n",
      "Requirement already satisfied: scipy>=1.2.0 in /home/archil/.local/lib/python3.10/site-packages (from librosa) (1.9.3)\n",
      "Requirement already satisfied: scikit-learn>=0.20.0 in /home/archil/.local/lib/python3.10/site-packages (from librosa) (1.0.2)\n",
      "Requirement already satisfied: joblib>=0.14 in /home/archil/.local/lib/python3.10/site-packages (from librosa) (1.2.0)\n",
      "Requirement already satisfied: decorator>=4.3.0 in /home/archil/.local/lib/python3.10/site-packages (from librosa) (4.4.2)\n",
      "Requirement already satisfied: numba>=0.51.0 in /home/archil/.local/lib/python3.10/site-packages (from librosa) (0.56.4)\n",
      "Requirement already satisfied: soundfile>=0.12.1 in /home/archil/.local/lib/python3.10/site-packages (from librosa) (0.12.1)\n",
      "Requirement already satisfied: pooch<1.7,>=1.0 in /home/archil/.local/lib/python3.10/site-packages (from librosa) (1.6.0)\n",
      "Requirement already satisfied: soxr>=0.3.2 in /home/archil/.local/lib/python3.10/site-packages (from librosa) (0.3.5)\n",
      "Requirement already satisfied: typing-extensions>=4.1.1 in /home/archil/.local/lib/python3.10/site-packages (from librosa) (4.4.0)\n",
      "Requirement already satisfied: lazy-loader>=0.1 in /home/archil/.local/lib/python3.10/site-packages (from librosa) (0.3)\n",
      "Requirement already satisfied: msgpack>=1.0 in /home/archil/.local/lib/python3.10/site-packages (from librosa) (1.0.5)\n",
      "Requirement already satisfied: llvmlite<0.40,>=0.39.0dev0 in /home/archil/.local/lib/python3.10/site-packages (from numba>=0.51.0->librosa) (0.39.1)\n",
      "Requirement already satisfied: setuptools in /home/archil/.local/lib/python3.10/site-packages (from numba>=0.51.0->librosa) (68.0.0)\n",
      "Requirement already satisfied: appdirs>=1.3.0 in /home/archil/.local/lib/python3.10/site-packages (from pooch<1.7,>=1.0->librosa) (1.4.4)\n",
      "Requirement already satisfied: packaging>=20.0 in /home/archil/.local/lib/python3.10/site-packages (from pooch<1.7,>=1.0->librosa) (21.3)\n",
      "Requirement already satisfied: requests>=2.19.0 in /home/archil/.local/lib/python3.10/site-packages (from pooch<1.7,>=1.0->librosa) (2.28.1)\n",
      "Requirement already satisfied: threadpoolctl>=2.0.0 in /home/archil/.local/lib/python3.10/site-packages (from scikit-learn>=0.20.0->librosa) (3.1.0)\n",
      "Requirement already satisfied: cffi>=1.0 in /home/archil/.local/lib/python3.10/site-packages (from soundfile>=0.12.1->librosa) (1.15.1)\n",
      "Requirement already satisfied: pycparser in /home/archil/.local/lib/python3.10/site-packages (from cffi>=1.0->soundfile>=0.12.1->librosa) (2.21)\n",
      "Requirement already satisfied: pyparsing!=3.0.5,>=2.0.2 in /usr/lib/python3/dist-packages (from packaging>=20.0->pooch<1.7,>=1.0->librosa) (2.4.7)\n",
      "Requirement already satisfied: charset-normalizer<3,>=2 in /home/archil/.local/lib/python3.10/site-packages (from requests>=2.19.0->pooch<1.7,>=1.0->librosa) (2.1.1)\n",
      "Requirement already satisfied: idna<4,>=2.5 in /home/archil/.local/lib/python3.10/site-packages (from requests>=2.19.0->pooch<1.7,>=1.0->librosa) (3.4)\n",
      "Requirement already satisfied: urllib3<1.27,>=1.21.1 in /home/archil/.local/lib/python3.10/site-packages (from requests>=2.19.0->pooch<1.7,>=1.0->librosa) (1.26.12)\n",
      "Requirement already satisfied: certifi>=2017.4.17 in /home/archil/.local/lib/python3.10/site-packages (from requests>=2.19.0->pooch<1.7,>=1.0->librosa) (2022.9.24)\n",
      "\u001b[33mDEPRECATION: distro-info 1.1build1 has a non-standard version number. pip 23.3 will enforce this behaviour change. A possible replacement is to upgrade to a newer version of distro-info or contact the author to suggest that they release a version with a conforming version number. Discussion can be found at https://github.com/pypa/pip/issues/12063\u001b[0m\u001b[33m\n",
      "\u001b[0mDefaulting to user installation because normal site-packages is not writeable\n",
      "Requirement already satisfied: soundfile in /home/archil/.local/lib/python3.10/site-packages (0.12.1)\n",
      "Requirement already satisfied: cffi>=1.0 in /home/archil/.local/lib/python3.10/site-packages (from soundfile) (1.15.1)\n",
      "Requirement already satisfied: pycparser in /home/archil/.local/lib/python3.10/site-packages (from cffi>=1.0->soundfile) (2.21)\n",
      "\u001b[33mDEPRECATION: distro-info 1.1build1 has a non-standard version number. pip 23.3 will enforce this behaviour change. A possible replacement is to upgrade to a newer version of distro-info or contact the author to suggest that they release a version with a conforming version number. Discussion can be found at https://github.com/pypa/pip/issues/12063\u001b[0m\u001b[33m\n",
      "\u001b[0m"
     ]
    }
   ],
   "source": [
    "!pip install librosa\n",
    "!pip install soundfile"
   ]
  },
  {
   "cell_type": "code",
   "execution_count": 56,
   "id": "1b515ecb",
   "metadata": {},
   "outputs": [
    {
     "ename": "TypeError",
     "evalue": "Invalid file: <pydub.audio_segment.AudioSegment object at 0x7ff7f4fe0d90>",
     "output_type": "error",
     "traceback": [
      "\u001b[0;31m---------------------------------------------------------------------------\u001b[0m",
      "\u001b[0;31mTypeError\u001b[0m                                 Traceback (most recent call last)",
      "Cell \u001b[0;32mIn[56], line 8\u001b[0m\n\u001b[1;32m      5\u001b[0m wav_file_path \u001b[38;5;241m=\u001b[39m audio\n\u001b[1;32m      7\u001b[0m \u001b[38;5;66;03m# Load the audio file\u001b[39;00m\n\u001b[0;32m----> 8\u001b[0m signal, sample_rate \u001b[38;5;241m=\u001b[39m \u001b[43msoundfile\u001b[49m\u001b[38;5;241;43m.\u001b[39;49m\u001b[43mread\u001b[49m\u001b[43m(\u001b[49m\u001b[43mwav_file_path\u001b[49m\u001b[43m)\u001b[49m\n\u001b[1;32m     10\u001b[0m \u001b[38;5;66;03m# Create the keyword model\u001b[39;00m\n\u001b[1;32m     11\u001b[0m keyword_model \u001b[38;5;241m=\u001b[39m pynini\u001b[38;5;241m.\u001b[39mcross(\u001b[38;5;124m\"\u001b[39m\u001b[38;5;124mchatgpt\u001b[39m\u001b[38;5;124m\"\u001b[39m, pynini\u001b[38;5;241m.\u001b[39munion(\u001b[38;5;124m\"\u001b[39m\u001b[38;5;124m[a-z]\u001b[39m\u001b[38;5;124m\"\u001b[39m, \u001b[38;5;124m\"\u001b[39m\u001b[38;5;124m[A-Z]\u001b[39m\u001b[38;5;124m\"\u001b[39m, \u001b[38;5;124m\"\u001b[39m\u001b[38;5;124m0-9\u001b[39m\u001b[38;5;124m\"\u001b[39m, \u001b[38;5;124m\"\u001b[39m\u001b[38;5;124m-\u001b[39m\u001b[38;5;124m\"\u001b[39m))\n",
      "File \u001b[0;32m~/.local/lib/python3.10/site-packages/soundfile.py:285\u001b[0m, in \u001b[0;36mread\u001b[0;34m(file, frames, start, stop, dtype, always_2d, fill_value, out, samplerate, channels, format, subtype, endian, closefd)\u001b[0m\n\u001b[1;32m    199\u001b[0m \u001b[38;5;28;01mdef\u001b[39;00m \u001b[38;5;21mread\u001b[39m(file, frames\u001b[38;5;241m=\u001b[39m\u001b[38;5;241m-\u001b[39m\u001b[38;5;241m1\u001b[39m, start\u001b[38;5;241m=\u001b[39m\u001b[38;5;241m0\u001b[39m, stop\u001b[38;5;241m=\u001b[39m\u001b[38;5;28;01mNone\u001b[39;00m, dtype\u001b[38;5;241m=\u001b[39m\u001b[38;5;124m'\u001b[39m\u001b[38;5;124mfloat64\u001b[39m\u001b[38;5;124m'\u001b[39m, always_2d\u001b[38;5;241m=\u001b[39m\u001b[38;5;28;01mFalse\u001b[39;00m,\n\u001b[1;32m    200\u001b[0m          fill_value\u001b[38;5;241m=\u001b[39m\u001b[38;5;28;01mNone\u001b[39;00m, out\u001b[38;5;241m=\u001b[39m\u001b[38;5;28;01mNone\u001b[39;00m, samplerate\u001b[38;5;241m=\u001b[39m\u001b[38;5;28;01mNone\u001b[39;00m, channels\u001b[38;5;241m=\u001b[39m\u001b[38;5;28;01mNone\u001b[39;00m,\n\u001b[1;32m    201\u001b[0m          \u001b[38;5;28mformat\u001b[39m\u001b[38;5;241m=\u001b[39m\u001b[38;5;28;01mNone\u001b[39;00m, subtype\u001b[38;5;241m=\u001b[39m\u001b[38;5;28;01mNone\u001b[39;00m, endian\u001b[38;5;241m=\u001b[39m\u001b[38;5;28;01mNone\u001b[39;00m, closefd\u001b[38;5;241m=\u001b[39m\u001b[38;5;28;01mTrue\u001b[39;00m):\n\u001b[1;32m    202\u001b[0m     \u001b[38;5;124;03m\"\"\"Provide audio data from a sound file as NumPy array.\u001b[39;00m\n\u001b[1;32m    203\u001b[0m \n\u001b[1;32m    204\u001b[0m \u001b[38;5;124;03m    By default, the whole file is read from the beginning, but the\u001b[39;00m\n\u001b[0;32m   (...)\u001b[0m\n\u001b[1;32m    283\u001b[0m \n\u001b[1;32m    284\u001b[0m \u001b[38;5;124;03m    \"\"\"\u001b[39;00m\n\u001b[0;32m--> 285\u001b[0m     \u001b[38;5;28;01mwith\u001b[39;00m \u001b[43mSoundFile\u001b[49m\u001b[43m(\u001b[49m\u001b[43mfile\u001b[49m\u001b[43m,\u001b[49m\u001b[43m \u001b[49m\u001b[38;5;124;43m'\u001b[39;49m\u001b[38;5;124;43mr\u001b[39;49m\u001b[38;5;124;43m'\u001b[39;49m\u001b[43m,\u001b[49m\u001b[43m \u001b[49m\u001b[43msamplerate\u001b[49m\u001b[43m,\u001b[49m\u001b[43m \u001b[49m\u001b[43mchannels\u001b[49m\u001b[43m,\u001b[49m\n\u001b[1;32m    286\u001b[0m \u001b[43m                   \u001b[49m\u001b[43msubtype\u001b[49m\u001b[43m,\u001b[49m\u001b[43m \u001b[49m\u001b[43mendian\u001b[49m\u001b[43m,\u001b[49m\u001b[43m \u001b[49m\u001b[38;5;28;43mformat\u001b[39;49m\u001b[43m,\u001b[49m\u001b[43m \u001b[49m\u001b[43mclosefd\u001b[49m\u001b[43m)\u001b[49m \u001b[38;5;28;01mas\u001b[39;00m f:\n\u001b[1;32m    287\u001b[0m         frames \u001b[38;5;241m=\u001b[39m f\u001b[38;5;241m.\u001b[39m_prepare_read(start, stop, frames)\n\u001b[1;32m    288\u001b[0m         data \u001b[38;5;241m=\u001b[39m f\u001b[38;5;241m.\u001b[39mread(frames, dtype, always_2d, fill_value, out)\n",
      "File \u001b[0;32m~/.local/lib/python3.10/site-packages/soundfile.py:658\u001b[0m, in \u001b[0;36mSoundFile.__init__\u001b[0;34m(self, file, mode, samplerate, channels, subtype, endian, format, closefd)\u001b[0m\n\u001b[1;32m    655\u001b[0m \u001b[38;5;28mself\u001b[39m\u001b[38;5;241m.\u001b[39m_mode \u001b[38;5;241m=\u001b[39m mode\n\u001b[1;32m    656\u001b[0m \u001b[38;5;28mself\u001b[39m\u001b[38;5;241m.\u001b[39m_info \u001b[38;5;241m=\u001b[39m _create_info_struct(file, mode, samplerate, channels,\n\u001b[1;32m    657\u001b[0m                                  \u001b[38;5;28mformat\u001b[39m, subtype, endian)\n\u001b[0;32m--> 658\u001b[0m \u001b[38;5;28mself\u001b[39m\u001b[38;5;241m.\u001b[39m_file \u001b[38;5;241m=\u001b[39m \u001b[38;5;28;43mself\u001b[39;49m\u001b[38;5;241;43m.\u001b[39;49m\u001b[43m_open\u001b[49m\u001b[43m(\u001b[49m\u001b[43mfile\u001b[49m\u001b[43m,\u001b[49m\u001b[43m \u001b[49m\u001b[43mmode_int\u001b[49m\u001b[43m,\u001b[49m\u001b[43m \u001b[49m\u001b[43mclosefd\u001b[49m\u001b[43m)\u001b[49m\n\u001b[1;32m    659\u001b[0m \u001b[38;5;28;01mif\u001b[39;00m \u001b[38;5;28mset\u001b[39m(mode)\u001b[38;5;241m.\u001b[39missuperset(\u001b[38;5;124m'\u001b[39m\u001b[38;5;124mr+\u001b[39m\u001b[38;5;124m'\u001b[39m) \u001b[38;5;129;01mand\u001b[39;00m \u001b[38;5;28mself\u001b[39m\u001b[38;5;241m.\u001b[39mseekable():\n\u001b[1;32m    660\u001b[0m     \u001b[38;5;66;03m# Move write position to 0 (like in Python file objects)\u001b[39;00m\n\u001b[1;32m    661\u001b[0m     \u001b[38;5;28mself\u001b[39m\u001b[38;5;241m.\u001b[39mseek(\u001b[38;5;241m0\u001b[39m)\n",
      "File \u001b[0;32m~/.local/lib/python3.10/site-packages/soundfile.py:1212\u001b[0m, in \u001b[0;36mSoundFile._open\u001b[0;34m(self, file, mode_int, closefd)\u001b[0m\n\u001b[1;32m   1209\u001b[0m     file_ptr \u001b[38;5;241m=\u001b[39m _snd\u001b[38;5;241m.\u001b[39msf_open_virtual(\u001b[38;5;28mself\u001b[39m\u001b[38;5;241m.\u001b[39m_init_virtual_io(file),\n\u001b[1;32m   1210\u001b[0m                                     mode_int, \u001b[38;5;28mself\u001b[39m\u001b[38;5;241m.\u001b[39m_info, _ffi\u001b[38;5;241m.\u001b[39mNULL)\n\u001b[1;32m   1211\u001b[0m \u001b[38;5;28;01melse\u001b[39;00m:\n\u001b[0;32m-> 1212\u001b[0m     \u001b[38;5;28;01mraise\u001b[39;00m \u001b[38;5;167;01mTypeError\u001b[39;00m(\u001b[38;5;124m\"\u001b[39m\u001b[38;5;124mInvalid file: \u001b[39m\u001b[38;5;132;01m{0!r}\u001b[39;00m\u001b[38;5;124m\"\u001b[39m\u001b[38;5;241m.\u001b[39mformat(\u001b[38;5;28mself\u001b[39m\u001b[38;5;241m.\u001b[39mname))\n\u001b[1;32m   1213\u001b[0m \u001b[38;5;28;01mif\u001b[39;00m file_ptr \u001b[38;5;241m==\u001b[39m _ffi\u001b[38;5;241m.\u001b[39mNULL:\n\u001b[1;32m   1214\u001b[0m     \u001b[38;5;66;03m# get the actual error code\u001b[39;00m\n\u001b[1;32m   1215\u001b[0m     err \u001b[38;5;241m=\u001b[39m _snd\u001b[38;5;241m.\u001b[39msf_error(file_ptr)\n",
      "\u001b[0;31mTypeError\u001b[0m: Invalid file: <pydub.audio_segment.AudioSegment object at 0x7ff7f4fe0d90>"
     ]
    }
   ],
   "source": [
    "import pynini\n",
    "import soundfile\n",
    "\n",
    "# Get the path to the audio file\n",
    "wav_file_path = audio\n",
    "\n",
    "# Load the audio file\n",
    "signal, sample_rate = soundfile.read(wav_file_path)\n",
    "\n",
    "# Create the keyword model\n",
    "keyword_model = pynini.cross(\"chatgpt\", pynini.union(\"[a-z]\", \"[A-Z]\", \"0-9\", \"-\"))\n",
    "\n",
    "# Find the timestamp of the keyword\n",
    "timestamp = pynini.cdrewrite(signal, keyword_model, \"\", NEMO_SIGMA).find_first().timestamp(sample_rate)\n",
    "\n",
    "# Print the timestamp of the keyword\n",
    "print(timestamp)\n"
   ]
  },
  {
   "cell_type": "code",
   "execution_count": 60,
   "id": "7d4a248e",
   "metadata": {
    "scrolled": true
   },
   "outputs": [
    {
     "ename": "ModuleNotFoundError",
     "evalue": "No module named 'hydra'",
     "output_type": "error",
     "traceback": [
      "\u001b[0;31m---------------------------------------------------------------------------\u001b[0m",
      "\u001b[0;31mModuleNotFoundError\u001b[0m                       Traceback (most recent call last)",
      "Cell \u001b[0;32mIn[60], line 2\u001b[0m\n\u001b[1;32m      1\u001b[0m \u001b[38;5;28;01mimport\u001b[39;00m \u001b[38;5;21;01msoundfile\u001b[39;00m\n\u001b[0;32m----> 2\u001b[0m \u001b[38;5;28;01mimport\u001b[39;00m \u001b[38;5;21;01mnemo_asr\u001b[39;00m\n\u001b[1;32m      4\u001b[0m \u001b[38;5;66;03m# Get the path to the audio file\u001b[39;00m\n\u001b[1;32m      5\u001b[0m wav_file_path \u001b[38;5;241m=\u001b[39m \u001b[38;5;124m'\u001b[39m\u001b[38;5;124myour_audio_file.wav\u001b[39m\u001b[38;5;124m'\u001b[39m\n",
      "File \u001b[0;32m~/.local/lib/python3.10/site-packages/nemo_asr/__init__.py:15\u001b[0m\n\u001b[1;32m      1\u001b[0m \u001b[38;5;66;03m# Copyright 2019 NVIDIA. All Rights Reserved.\u001b[39;00m\n\u001b[1;32m      2\u001b[0m \u001b[38;5;66;03m#\u001b[39;00m\n\u001b[1;32m      3\u001b[0m \u001b[38;5;66;03m# Licensed under the Apache License, Version 2.0 (the \"License\");\u001b[39;00m\n\u001b[0;32m   (...)\u001b[0m\n\u001b[1;32m     13\u001b[0m \u001b[38;5;66;03m# limitations under the License.\u001b[39;00m\n\u001b[1;32m     14\u001b[0m \u001b[38;5;66;03m# =============================================================================\u001b[39;00m\n\u001b[0;32m---> 15\u001b[0m \u001b[38;5;28;01mfrom\u001b[39;00m \u001b[38;5;21;01mnemo\u001b[39;00m\u001b[38;5;21;01m.\u001b[39;00m\u001b[38;5;21;01mcore\u001b[39;00m \u001b[38;5;28;01mimport\u001b[39;00m Backend\n\u001b[1;32m     17\u001b[0m \u001b[38;5;28;01mfrom\u001b[39;00m \u001b[38;5;21;01m.\u001b[39;00m\u001b[38;5;21;01maudio_preprocessing\u001b[39;00m \u001b[38;5;28;01mimport\u001b[39;00m \u001b[38;5;241m*\u001b[39m\n\u001b[1;32m     18\u001b[0m \u001b[38;5;28;01mfrom\u001b[39;00m \u001b[38;5;21;01m.\u001b[39;00m\u001b[38;5;21;01mbeam_search_decoder\u001b[39;00m \u001b[38;5;28;01mimport\u001b[39;00m BeamSearchDecoderWithLM\n",
      "File \u001b[0;32m~/.local/lib/python3.10/site-packages/nemo/core/__init__.py:16\u001b[0m\n\u001b[1;32m      1\u001b[0m \u001b[38;5;66;03m# Copyright (c) 2020, NVIDIA CORPORATION.  All rights reserved.\u001b[39;00m\n\u001b[1;32m      2\u001b[0m \u001b[38;5;66;03m#\u001b[39;00m\n\u001b[1;32m      3\u001b[0m \u001b[38;5;66;03m# Licensed under the Apache License, Version 2.0 (the \"License\");\u001b[39;00m\n\u001b[0;32m   (...)\u001b[0m\n\u001b[1;32m     12\u001b[0m \u001b[38;5;66;03m# See the License for the specific language governing permissions and\u001b[39;00m\n\u001b[1;32m     13\u001b[0m \u001b[38;5;66;03m# limitations under the License.\u001b[39;00m\n\u001b[1;32m     15\u001b[0m \u001b[38;5;28;01mimport\u001b[39;00m \u001b[38;5;21;01mnemo\u001b[39;00m\u001b[38;5;21;01m.\u001b[39;00m\u001b[38;5;21;01mcore\u001b[39;00m\u001b[38;5;21;01m.\u001b[39;00m\u001b[38;5;21;01mneural_types\u001b[39;00m\n\u001b[0;32m---> 16\u001b[0m \u001b[38;5;28;01mfrom\u001b[39;00m \u001b[38;5;21;01mnemo\u001b[39;00m\u001b[38;5;21;01m.\u001b[39;00m\u001b[38;5;21;01mcore\u001b[39;00m\u001b[38;5;21;01m.\u001b[39;00m\u001b[38;5;21;01mclasses\u001b[39;00m \u001b[38;5;28;01mimport\u001b[39;00m \u001b[38;5;241m*\u001b[39m\n",
      "File \u001b[0;32m~/.local/lib/python3.10/site-packages/nemo/core/classes/__init__.py:16\u001b[0m\n\u001b[1;32m      1\u001b[0m \u001b[38;5;66;03m# Copyright (c) 2020, NVIDIA CORPORATION.  All rights reserved.\u001b[39;00m\n\u001b[1;32m      2\u001b[0m \u001b[38;5;66;03m#\u001b[39;00m\n\u001b[1;32m      3\u001b[0m \u001b[38;5;66;03m# Licensed under the Apache License, Version 2.0 (the \"License\");\u001b[39;00m\n\u001b[0;32m   (...)\u001b[0m\n\u001b[1;32m     12\u001b[0m \u001b[38;5;66;03m# See the License for the specific language governing permissions and\u001b[39;00m\n\u001b[1;32m     13\u001b[0m \u001b[38;5;66;03m# limitations under the License.\u001b[39;00m\n\u001b[0;32m---> 16\u001b[0m \u001b[38;5;28;01mimport\u001b[39;00m \u001b[38;5;21;01mhydra\u001b[39;00m\n\u001b[1;32m     17\u001b[0m \u001b[38;5;28;01mimport\u001b[39;00m \u001b[38;5;21;01momegaconf\u001b[39;00m\n\u001b[1;32m     18\u001b[0m \u001b[38;5;28;01mimport\u001b[39;00m \u001b[38;5;21;01mpytorch_lightning\u001b[39;00m\n",
      "\u001b[0;31mModuleNotFoundError\u001b[0m: No module named 'hydra'"
     ]
    }
   ],
   "source": [
    "import soundfile\n",
    "import \n",
    "\n",
    "# Get the path to the audio file\n",
    "wav_file_path = 'your_audio_file.wav'\n",
    "\n",
    "# Load the audio file using soundfile\n",
    "signal, sample_rate = soundfile.read(wav_file_path)\n",
    "\n",
    "# Create the keyword model\n",
    "keyword_model = nemo_asr.modules.PyniniTokenizer.word_piece_tokenize(\"chatgpt\")\n",
    "\n",
    "# Find the timestamp of the keyword\n",
    "timestamp = keyword_model.find_linear_subpaths(signal).times.float_values()\n",
    "\n",
    "# Print the timestamp of the keyword\n",
    "print(timestamp)\n"
   ]
  },
  {
   "cell_type": "code",
   "execution_count": 61,
   "id": "0adbf885",
   "metadata": {},
   "outputs": [
    {
     "name": "stdout",
     "output_type": "stream",
     "text": [
      "Defaulting to user installation because normal site-packages is not writeable\n",
      "Collecting hydra\n",
      "  Downloading Hydra-2.5.tar.gz (82 kB)\n",
      "\u001b[2K     \u001b[38;2;114;156;31m━━━━━━━━━━━━━━━━━━━━━━━━━━━━━━━━━━━━━━━\u001b[0m \u001b[32m82.4/82.4 kB\u001b[0m \u001b[31m846.7 kB/s\u001b[0m eta \u001b[36m0:00:00\u001b[0m eta \u001b[36m0:00:01\u001b[0m-:--\u001b[0m\n",
      "\u001b[?25h  Preparing metadata (setup.py) ... \u001b[?25ldone\n",
      "\u001b[?25hBuilding wheels for collected packages: hydra\n",
      "  Building wheel for hydra (setup.py) ... \u001b[?25lerror\n",
      "  \u001b[1;31merror\u001b[0m: \u001b[1msubprocess-exited-with-error\u001b[0m\n",
      "  \n",
      "  \u001b[31m×\u001b[0m \u001b[32mpython setup.py bdist_wheel\u001b[0m did not run successfully.\n",
      "  \u001b[31m│\u001b[0m exit code: \u001b[1;36m1\u001b[0m\n",
      "  \u001b[31m╰─>\u001b[0m \u001b[31m[164 lines of output]\u001b[0m\n",
      "  \u001b[31m   \u001b[0m running bdist_wheel\n",
      "  \u001b[31m   \u001b[0m running build\n",
      "  \u001b[31m   \u001b[0m running build_py\n",
      "  \u001b[31m   \u001b[0m creating build\n",
      "  \u001b[31m   \u001b[0m creating build/lib.linux-x86_64-cpython-310\n",
      "  \u001b[31m   \u001b[0m copying src/hydra.py -> build/lib.linux-x86_64-cpython-310\n",
      "  \u001b[31m   \u001b[0m running build_ext\n",
      "  \u001b[31m   \u001b[0m building '_hydra' extension\n",
      "  \u001b[31m   \u001b[0m creating build/temp.linux-x86_64-cpython-310\n",
      "  \u001b[31m   \u001b[0m creating build/temp.linux-x86_64-cpython-310/src\n",
      "  \u001b[31m   \u001b[0m x86_64-linux-gnu-gcc -Wno-unused-result -Wsign-compare -DNDEBUG -g -fwrapv -O2 -Wall -g -fstack-protector-strong -Wformat -Werror=format-security -g -fwrapv -O2 -fPIC -I/tmp/pip-install-bbzovzyy/hydra_4c3ea9d31a2d4ddf933a01de26d286a9/src -I/usr/include/python3.10 -c src/MurmurHash3.c -o build/temp.linux-x86_64-cpython-310/src/MurmurHash3.o -std=gnu99 -O2 -D_LARGEFILE64_SOURCE\n",
      "  \u001b[31m   \u001b[0m x86_64-linux-gnu-gcc -Wno-unused-result -Wsign-compare -DNDEBUG -g -fwrapv -O2 -Wall -g -fstack-protector-strong -Wformat -Werror=format-security -g -fwrapv -O2 -fPIC -I/tmp/pip-install-bbzovzyy/hydra_4c3ea9d31a2d4ddf933a01de26d286a9/src -I/usr/include/python3.10 -c src/_hydra.c -o build/temp.linux-x86_64-cpython-310/src/_hydra.o -std=gnu99 -O2 -D_LARGEFILE64_SOURCE\n",
      "  \u001b[31m   \u001b[0m src/_hydra.c: In function ‘__pyx_pf_6_hydra_8MMapIter_2__next__’:\n",
      "  \u001b[31m   \u001b[0m src/_hydra.c:3377:36: warning: comparison of integer expressions of different signedness: ‘size_t’ {aka ‘long unsigned int’} and ‘Py_ssize_t’ {aka ‘long int’} [-Wsign-compare]\n",
      "  \u001b[31m   \u001b[0m  3377 |   __pyx_t_3 = ((__pyx_v_self->_idx < __pyx_t_2) != 0);\n",
      "  \u001b[31m   \u001b[0m       |                                    ^\n",
      "  \u001b[31m   \u001b[0m src/_hydra.c: In function ‘__pyx_tp_dealloc_6_hydra_MMapBitField’:\n",
      "  \u001b[31m   \u001b[0m src/_hydra.c:7445:5: error: lvalue required as increment operand\n",
      "  \u001b[31m   \u001b[0m  7445 |     ++Py_REFCNT(o);\n",
      "  \u001b[31m   \u001b[0m       |     ^~\n",
      "  \u001b[31m   \u001b[0m src/_hydra.c:7447:5: error: lvalue required as decrement operand\n",
      "  \u001b[31m   \u001b[0m  7447 |     --Py_REFCNT(o);\n",
      "  \u001b[31m   \u001b[0m       |     ^~\n",
      "  \u001b[31m   \u001b[0m src/_hydra.c: In function ‘PyInit__hydra’:\n",
      "  \u001b[31m   \u001b[0m src/_hydra.c:8530:34: error: ‘PyTypeObject’ {aka ‘struct _typeobject’} has no member named ‘tp_print’\n",
      "  \u001b[31m   \u001b[0m  8530 |   __pyx_type_6_hydra_MMapBitField.tp_print = 0;\n",
      "  \u001b[31m   \u001b[0m       |                                  ^\n",
      "  \u001b[31m   \u001b[0m src/_hydra.c:8535:30: error: ‘PyTypeObject’ {aka ‘struct _typeobject’} has no member named ‘tp_print’\n",
      "  \u001b[31m   \u001b[0m  8535 |   __pyx_type_6_hydra_MMapIter.tp_print = 0;\n",
      "  \u001b[31m   \u001b[0m       |                              ^\n",
      "  \u001b[31m   \u001b[0m src/_hydra.c:8539:39: error: ‘PyTypeObject’ {aka ‘struct _typeobject’} has no member named ‘tp_print’\n",
      "  \u001b[31m   \u001b[0m  8539 |   __pyx_type_6_hydra_BloomCalculations.tp_print = 0;\n",
      "  \u001b[31m   \u001b[0m       |                                       ^\n",
      "  \u001b[31m   \u001b[0m src/_hydra.c:8551:33: error: ‘PyTypeObject’ {aka ‘struct _typeobject’} has no member named ‘tp_print’\n",
      "  \u001b[31m   \u001b[0m  8551 |   __pyx_type_6_hydra_BloomFilter.tp_print = 0;\n",
      "  \u001b[31m   \u001b[0m       |                                 ^\n",
      "  \u001b[31m   \u001b[0m src/_hydra.c: In function ‘__Pyx_ParseOptionalKeywords’:\n",
      "  \u001b[31m   \u001b[0m src/_hydra.c:9924:21: warning: ‘_PyUnicode_get_wstr_length’ is deprecated [-Wdeprecated-declarations]\n",
      "  \u001b[31m   \u001b[0m  9924 |                     (PyUnicode_GET_SIZE(**name) != PyUnicode_GET_SIZE(key)) ? 1 :\n",
      "  \u001b[31m   \u001b[0m       |                     ^\n",
      "  \u001b[31m   \u001b[0m In file included from /usr/include/python3.10/unicodeobject.h:1046,\n",
      "  \u001b[31m   \u001b[0m                  from /usr/include/python3.10/Python.h:83,\n",
      "  \u001b[31m   \u001b[0m                  from src/_hydra.c:16:\n",
      "  \u001b[31m   \u001b[0m /usr/include/python3.10/cpython/unicodeobject.h:446:26: note: declared here\n",
      "  \u001b[31m   \u001b[0m   446 | static inline Py_ssize_t _PyUnicode_get_wstr_length(PyObject *op) {\n",
      "  \u001b[31m   \u001b[0m       |                          ^~~~~~~~~~~~~~~~~~~~~~~~~~\n",
      "  \u001b[31m   \u001b[0m src/_hydra.c:9924:21: warning: ‘PyUnicode_AsUnicode’ is deprecated [-Wdeprecated-declarations]\n",
      "  \u001b[31m   \u001b[0m  9924 |                     (PyUnicode_GET_SIZE(**name) != PyUnicode_GET_SIZE(key)) ? 1 :\n",
      "  \u001b[31m   \u001b[0m       |                     ^\n",
      "  \u001b[31m   \u001b[0m In file included from /usr/include/python3.10/unicodeobject.h:1046,\n",
      "  \u001b[31m   \u001b[0m                  from /usr/include/python3.10/Python.h:83,\n",
      "  \u001b[31m   \u001b[0m                  from src/_hydra.c:16:\n",
      "  \u001b[31m   \u001b[0m /usr/include/python3.10/cpython/unicodeobject.h:580:45: note: declared here\n",
      "  \u001b[31m   \u001b[0m   580 | Py_DEPRECATED(3.3) PyAPI_FUNC(Py_UNICODE *) PyUnicode_AsUnicode(\n",
      "  \u001b[31m   \u001b[0m       |                                             ^~~~~~~~~~~~~~~~~~~\n",
      "  \u001b[31m   \u001b[0m src/_hydra.c:9924:21: warning: ‘_PyUnicode_get_wstr_length’ is deprecated [-Wdeprecated-declarations]\n",
      "  \u001b[31m   \u001b[0m  9924 |                     (PyUnicode_GET_SIZE(**name) != PyUnicode_GET_SIZE(key)) ? 1 :\n",
      "  \u001b[31m   \u001b[0m       |                     ^\n",
      "  \u001b[31m   \u001b[0m In file included from /usr/include/python3.10/unicodeobject.h:1046,\n",
      "  \u001b[31m   \u001b[0m                  from /usr/include/python3.10/Python.h:83,\n",
      "  \u001b[31m   \u001b[0m                  from src/_hydra.c:16:\n",
      "  \u001b[31m   \u001b[0m /usr/include/python3.10/cpython/unicodeobject.h:446:26: note: declared here\n",
      "  \u001b[31m   \u001b[0m   446 | static inline Py_ssize_t _PyUnicode_get_wstr_length(PyObject *op) {\n",
      "  \u001b[31m   \u001b[0m       |                          ^~~~~~~~~~~~~~~~~~~~~~~~~~\n",
      "  \u001b[31m   \u001b[0m src/_hydra.c:9924:21: warning: ‘_PyUnicode_get_wstr_length’ is deprecated [-Wdeprecated-declarations]\n",
      "  \u001b[31m   \u001b[0m  9924 |                     (PyUnicode_GET_SIZE(**name) != PyUnicode_GET_SIZE(key)) ? 1 :\n",
      "  \u001b[31m   \u001b[0m       |                     ^\n",
      "  \u001b[31m   \u001b[0m In file included from /usr/include/python3.10/unicodeobject.h:1046,\n",
      "  \u001b[31m   \u001b[0m                  from /usr/include/python3.10/Python.h:83,\n",
      "  \u001b[31m   \u001b[0m                  from src/_hydra.c:16:\n",
      "  \u001b[31m   \u001b[0m /usr/include/python3.10/cpython/unicodeobject.h:446:26: note: declared here\n",
      "  \u001b[31m   \u001b[0m   446 | static inline Py_ssize_t _PyUnicode_get_wstr_length(PyObject *op) {\n",
      "  \u001b[31m   \u001b[0m       |                          ^~~~~~~~~~~~~~~~~~~~~~~~~~\n",
      "  \u001b[31m   \u001b[0m src/_hydra.c:9924:21: warning: ‘PyUnicode_AsUnicode’ is deprecated [-Wdeprecated-declarations]\n",
      "  \u001b[31m   \u001b[0m  9924 |                     (PyUnicode_GET_SIZE(**name) != PyUnicode_GET_SIZE(key)) ? 1 :\n",
      "  \u001b[31m   \u001b[0m       |                     ^\n",
      "  \u001b[31m   \u001b[0m In file included from /usr/include/python3.10/unicodeobject.h:1046,\n",
      "  \u001b[31m   \u001b[0m                  from /usr/include/python3.10/Python.h:83,\n",
      "  \u001b[31m   \u001b[0m                  from src/_hydra.c:16:\n",
      "  \u001b[31m   \u001b[0m /usr/include/python3.10/cpython/unicodeobject.h:580:45: note: declared here\n",
      "  \u001b[31m   \u001b[0m   580 | Py_DEPRECATED(3.3) PyAPI_FUNC(Py_UNICODE *) PyUnicode_AsUnicode(\n",
      "  \u001b[31m   \u001b[0m       |                                             ^~~~~~~~~~~~~~~~~~~\n",
      "  \u001b[31m   \u001b[0m src/_hydra.c:9924:21: warning: ‘_PyUnicode_get_wstr_length’ is deprecated [-Wdeprecated-declarations]\n",
      "  \u001b[31m   \u001b[0m  9924 |                     (PyUnicode_GET_SIZE(**name) != PyUnicode_GET_SIZE(key)) ? 1 :\n",
      "  \u001b[31m   \u001b[0m       |                     ^\n",
      "  \u001b[31m   \u001b[0m In file included from /usr/include/python3.10/unicodeobject.h:1046,\n",
      "  \u001b[31m   \u001b[0m                  from /usr/include/python3.10/Python.h:83,\n",
      "  \u001b[31m   \u001b[0m                  from src/_hydra.c:16:\n",
      "  \u001b[31m   \u001b[0m /usr/include/python3.10/cpython/unicodeobject.h:446:26: note: declared here\n",
      "  \u001b[31m   \u001b[0m   446 | static inline Py_ssize_t _PyUnicode_get_wstr_length(PyObject *op) {\n",
      "  \u001b[31m   \u001b[0m       |                          ^~~~~~~~~~~~~~~~~~~~~~~~~~\n",
      "  \u001b[31m   \u001b[0m src/_hydra.c:9940:25: warning: ‘_PyUnicode_get_wstr_length’ is deprecated [-Wdeprecated-declarations]\n",
      "  \u001b[31m   \u001b[0m  9940 |                         (PyUnicode_GET_SIZE(**argname) != PyUnicode_GET_SIZE(key)) ? 1 :\n",
      "  \u001b[31m   \u001b[0m       |                         ^\n",
      "  \u001b[31m   \u001b[0m In file included from /usr/include/python3.10/unicodeobject.h:1046,\n",
      "  \u001b[31m   \u001b[0m                  from /usr/include/python3.10/Python.h:83,\n",
      "  \u001b[31m   \u001b[0m                  from src/_hydra.c:16:\n",
      "  \u001b[31m   \u001b[0m /usr/include/python3.10/cpython/unicodeobject.h:446:26: note: declared here\n",
      "  \u001b[31m   \u001b[0m   446 | static inline Py_ssize_t _PyUnicode_get_wstr_length(PyObject *op) {\n",
      "  \u001b[31m   \u001b[0m       |                          ^~~~~~~~~~~~~~~~~~~~~~~~~~\n",
      "  \u001b[31m   \u001b[0m src/_hydra.c:9940:25: warning: ‘PyUnicode_AsUnicode’ is deprecated [-Wdeprecated-declarations]\n",
      "  \u001b[31m   \u001b[0m  9940 |                         (PyUnicode_GET_SIZE(**argname) != PyUnicode_GET_SIZE(key)) ? 1 :\n",
      "  \u001b[31m   \u001b[0m       |                         ^\n",
      "  \u001b[31m   \u001b[0m In file included from /usr/include/python3.10/unicodeobject.h:1046,\n",
      "  \u001b[31m   \u001b[0m                  from /usr/include/python3.10/Python.h:83,\n",
      "  \u001b[31m   \u001b[0m                  from src/_hydra.c:16:\n",
      "  \u001b[31m   \u001b[0m /usr/include/python3.10/cpython/unicodeobject.h:580:45: note: declared here\n",
      "  \u001b[31m   \u001b[0m   580 | Py_DEPRECATED(3.3) PyAPI_FUNC(Py_UNICODE *) PyUnicode_AsUnicode(\n",
      "  \u001b[31m   \u001b[0m       |                                             ^~~~~~~~~~~~~~~~~~~\n",
      "  \u001b[31m   \u001b[0m src/_hydra.c:9940:25: warning: ‘_PyUnicode_get_wstr_length’ is deprecated [-Wdeprecated-declarations]\n",
      "  \u001b[31m   \u001b[0m  9940 |                         (PyUnicode_GET_SIZE(**argname) != PyUnicode_GET_SIZE(key)) ? 1 :\n",
      "  \u001b[31m   \u001b[0m       |                         ^\n",
      "  \u001b[31m   \u001b[0m In file included from /usr/include/python3.10/unicodeobject.h:1046,\n",
      "  \u001b[31m   \u001b[0m                  from /usr/include/python3.10/Python.h:83,\n",
      "  \u001b[31m   \u001b[0m                  from src/_hydra.c:16:\n",
      "  \u001b[31m   \u001b[0m /usr/include/python3.10/cpython/unicodeobject.h:446:26: note: declared here\n",
      "  \u001b[31m   \u001b[0m   446 | static inline Py_ssize_t _PyUnicode_get_wstr_length(PyObject *op) {\n",
      "  \u001b[31m   \u001b[0m       |                          ^~~~~~~~~~~~~~~~~~~~~~~~~~\n",
      "  \u001b[31m   \u001b[0m src/_hydra.c:9940:25: warning: ‘_PyUnicode_get_wstr_length’ is deprecated [-Wdeprecated-declarations]\n",
      "  \u001b[31m   \u001b[0m  9940 |                         (PyUnicode_GET_SIZE(**argname) != PyUnicode_GET_SIZE(key)) ? 1 :\n",
      "  \u001b[31m   \u001b[0m       |                         ^\n",
      "  \u001b[31m   \u001b[0m In file included from /usr/include/python3.10/unicodeobject.h:1046,\n",
      "  \u001b[31m   \u001b[0m                  from /usr/include/python3.10/Python.h:83,\n",
      "  \u001b[31m   \u001b[0m                  from src/_hydra.c:16:\n",
      "  \u001b[31m   \u001b[0m /usr/include/python3.10/cpython/unicodeobject.h:446:26: note: declared here\n",
      "  \u001b[31m   \u001b[0m   446 | static inline Py_ssize_t _PyUnicode_get_wstr_length(PyObject *op) {\n",
      "  \u001b[31m   \u001b[0m       |                          ^~~~~~~~~~~~~~~~~~~~~~~~~~\n",
      "  \u001b[31m   \u001b[0m src/_hydra.c:9940:25: warning: ‘PyUnicode_AsUnicode’ is deprecated [-Wdeprecated-declarations]\n",
      "  \u001b[31m   \u001b[0m  9940 |                         (PyUnicode_GET_SIZE(**argname) != PyUnicode_GET_SIZE(key)) ? 1 :\n",
      "  \u001b[31m   \u001b[0m       |                         ^\n",
      "  \u001b[31m   \u001b[0m In file included from /usr/include/python3.10/unicodeobject.h:1046,\n",
      "  \u001b[31m   \u001b[0m                  from /usr/include/python3.10/Python.h:83,\n",
      "  \u001b[31m   \u001b[0m                  from src/_hydra.c:16:\n",
      "  \u001b[31m   \u001b[0m /usr/include/python3.10/cpython/unicodeobject.h:580:45: note: declared here\n",
      "  \u001b[31m   \u001b[0m   580 | Py_DEPRECATED(3.3) PyAPI_FUNC(Py_UNICODE *) PyUnicode_AsUnicode(\n",
      "  \u001b[31m   \u001b[0m       |                                             ^~~~~~~~~~~~~~~~~~~\n",
      "  \u001b[31m   \u001b[0m src/_hydra.c:9940:25: warning: ‘_PyUnicode_get_wstr_length’ is deprecated [-Wdeprecated-declarations]\n",
      "  \u001b[31m   \u001b[0m  9940 |                         (PyUnicode_GET_SIZE(**argname) != PyUnicode_GET_SIZE(key)) ? 1 :\n",
      "  \u001b[31m   \u001b[0m       |                         ^\n",
      "  \u001b[31m   \u001b[0m In file included from /usr/include/python3.10/unicodeobject.h:1046,\n",
      "  \u001b[31m   \u001b[0m                  from /usr/include/python3.10/Python.h:83,\n",
      "  \u001b[31m   \u001b[0m                  from src/_hydra.c:16:\n",
      "  \u001b[31m   \u001b[0m /usr/include/python3.10/cpython/unicodeobject.h:446:26: note: declared here\n",
      "  \u001b[31m   \u001b[0m   446 | static inline Py_ssize_t _PyUnicode_get_wstr_length(PyObject *op) {\n",
      "  \u001b[31m   \u001b[0m       |                          ^~~~~~~~~~~~~~~~~~~~~~~~~~\n",
      "  \u001b[31m   \u001b[0m src/_hydra.c: In function ‘__Pyx_CyFunction_Call’:\n",
      "  \u001b[31m   \u001b[0m src/_hydra.c:11521:9: warning: ‘PyCFunction_Call’ is deprecated [-Wdeprecated-declarations]\n",
      "  \u001b[31m   \u001b[0m 11521 |         return PyCFunction_Call(func, arg, kw);\n",
      "  \u001b[31m   \u001b[0m       |         ^~~~~~\n",
      "  \u001b[31m   \u001b[0m In file included from /usr/include/python3.10/Python.h:97,\n",
      "  \u001b[31m   \u001b[0m                  from src/_hydra.c:16:\n",
      "  \u001b[31m   \u001b[0m /usr/include/python3.10/methodobject.h:33:43: note: declared here\n",
      "  \u001b[31m   \u001b[0m    33 | Py_DEPRECATED(3.9) PyAPI_FUNC(PyObject *) PyCFunction_Call(PyObject *, PyObject *, PyObject *);\n",
      "  \u001b[31m   \u001b[0m       |                                           ^~~~~~~~~~~~~~~~\n",
      "  \u001b[31m   \u001b[0m src/_hydra.c: In function ‘__pyx_CyFunction_init’:\n",
      "  \u001b[31m   \u001b[0m src/_hydra.c:11586:5: warning: ‘PyCFunction_Call’ is deprecated [-Wdeprecated-declarations]\n",
      "  \u001b[31m   \u001b[0m 11586 |     __pyx_CyFunctionType_type.tp_call = PyCFunction_Call;\n",
      "  \u001b[31m   \u001b[0m       |     ^~~~~~~~~~~~~~~~~~~~~~~~~\n",
      "  \u001b[31m   \u001b[0m In file included from /usr/include/python3.10/Python.h:97,\n",
      "  \u001b[31m   \u001b[0m                  from src/_hydra.c:16:\n",
      "  \u001b[31m   \u001b[0m /usr/include/python3.10/methodobject.h:33:43: note: declared here\n",
      "  \u001b[31m   \u001b[0m    33 | Py_DEPRECATED(3.9) PyAPI_FUNC(PyObject *) PyCFunction_Call(PyObject *, PyObject *, PyObject *);\n",
      "  \u001b[31m   \u001b[0m       |                                           ^~~~~~~~~~~~~~~~\n",
      "  \u001b[31m   \u001b[0m error: command '/usr/bin/x86_64-linux-gnu-gcc' failed with exit code 1\n",
      "  \u001b[31m   \u001b[0m \u001b[31m[end of output]\u001b[0m\n",
      "  \n",
      "  \u001b[1;35mnote\u001b[0m: This error originates from a subprocess, and is likely not a problem with pip.\n",
      "\u001b[31m  ERROR: Failed building wheel for hydra\u001b[0m\u001b[31m\n",
      "\u001b[0m\u001b[?25h  Running setup.py clean for hydra\n"
     ]
    },
    {
     "name": "stdout",
     "output_type": "stream",
     "text": [
      "Failed to build hydra\r\n",
      "\u001b[31mERROR: Could not build wheels for hydra, which is required to install pyproject.toml-based projects\u001b[0m\u001b[31m\r\n",
      "\u001b[0m"
     ]
    }
   ],
   "source": [
    "!pip install hydra"
   ]
  },
  {
   "cell_type": "code",
   "execution_count": 63,
   "id": "b81f8b84",
   "metadata": {},
   "outputs": [
    {
     "ename": "ModuleNotFoundError",
     "evalue": "No module named 'pysndfile'",
     "output_type": "error",
     "traceback": [
      "\u001b[0;31m---------------------------------------------------------------------------\u001b[0m",
      "\u001b[0;31mModuleNotFoundError\u001b[0m                       Traceback (most recent call last)",
      "Cell \u001b[0;32mIn[63], line 2\u001b[0m\n\u001b[1;32m      1\u001b[0m \u001b[38;5;28;01mimport\u001b[39;00m \u001b[38;5;21;01mpynini\u001b[39;00m\n\u001b[0;32m----> 2\u001b[0m \u001b[38;5;28;01mimport\u001b[39;00m \u001b[38;5;21;01mpysndfile\u001b[39;00m\n\u001b[1;32m      4\u001b[0m \u001b[38;5;66;03m# Get the path to the audio file\u001b[39;00m\n\u001b[1;32m      5\u001b[0m wav_file_path \u001b[38;5;241m=\u001b[39m \u001b[38;5;124m\"\u001b[39m\u001b[38;5;124m1.wav\u001b[39m\u001b[38;5;124m\"\u001b[39m\n",
      "\u001b[0;31mModuleNotFoundError\u001b[0m: No module named 'pysndfile'"
     ]
    }
   ],
   "source": [
    "import pynini\n",
    "import pysndfile\n",
    "\n",
    "# Get the path to the audio file\n",
    "wav_file_path = \"1.wav\"\n",
    "\n",
    "# Load the audio file\n",
    "signal, sample_rate = pysndfile.read(wav_file_path)\n",
    "\n",
    "# Create the keyword model\n",
    "keyword_model = pynini.cross(\"chatgpt\", pynini.union(\"[a-z]\", \"[A-Z]\", \"0-9\", \"-\"))\n",
    "\n",
    "# Find the timestamp of the keyword\n",
    "timestamp = pynini.cdrewrite(signal, keyword_model, \"\", NEMO_SIGMA).find_first().timestamp(sample_rate)\n",
    "\n",
    "# Print the timestamp of the keyword\n",
    "print(timestamp)\n"
   ]
  },
  {
   "cell_type": "code",
   "execution_count": 66,
   "id": "49d278d5",
   "metadata": {},
   "outputs": [
    {
     "name": "stdout",
     "output_type": "stream",
     "text": [
      "Defaulting to user installation because normal site-packages is not writeable\n",
      "Collecting pysndfile\n",
      "  Using cached pysndfile-1.4.4.tar.gz (380 kB)\n",
      "  Installing build dependencies ... \u001b[?25ldone\n",
      "\u001b[?25h  Getting requirements to build wheel ... \u001b[?25ldone\n",
      "\u001b[?25h  Preparing metadata (pyproject.toml) ... \u001b[?25ldone\n",
      "\u001b[?25hRequirement already satisfied: numpy>=1.13.0 in /home/archil/.local/lib/python3.10/site-packages (from pysndfile) (1.23.5)\n",
      "Building wheels for collected packages: pysndfile\n",
      "  Building wheel for pysndfile (pyproject.toml) ... \u001b[?25lerror\n",
      "  \u001b[1;31merror\u001b[0m: \u001b[1msubprocess-exited-with-error\u001b[0m\n",
      "  \n",
      "  \u001b[31m×\u001b[0m \u001b[32mBuilding wheel for pysndfile \u001b[0m\u001b[1;32m(\u001b[0m\u001b[32mpyproject.toml\u001b[0m\u001b[1;32m)\u001b[0m did not run successfully.\n",
      "  \u001b[31m│\u001b[0m exit code: \u001b[1;36m1\u001b[0m\n",
      "  \u001b[31m╰─>\u001b[0m \u001b[31m[21 lines of output]\u001b[0m\n",
      "  \u001b[31m   \u001b[0m <string>:14: DeprecationWarning: pkg_resources is deprecated as an API. See https://setuptools.pypa.io/en/latest/pkg_resources.html\n",
      "  \u001b[31m   \u001b[0m running bdist_wheel\n",
      "  \u001b[31m   \u001b[0m running build\n",
      "  \u001b[31m   \u001b[0m running build_py\n",
      "  \u001b[31m   \u001b[0m creating build\n",
      "  \u001b[31m   \u001b[0m creating build/lib.linux-x86_64-cpython-310\n",
      "  \u001b[31m   \u001b[0m creating build/lib.linux-x86_64-cpython-310/pysndfile\n",
      "  \u001b[31m   \u001b[0m copying pysndfile/Faiff.py -> build/lib.linux-x86_64-cpython-310/pysndfile\n",
      "  \u001b[31m   \u001b[0m copying pysndfile/__init__.py -> build/lib.linux-x86_64-cpython-310/pysndfile\n",
      "  \u001b[31m   \u001b[0m copying pysndfile/sndio.py -> build/lib.linux-x86_64-cpython-310/pysndfile\n",
      "  \u001b[31m   \u001b[0m running build_ext\n",
      "  \u001b[31m   \u001b[0m check for clang compiler ... no\n",
      "  \u001b[31m   \u001b[0m building '_pysndfile' extension\n",
      "  \u001b[31m   \u001b[0m creating build/temp.linux-x86_64-cpython-310\n",
      "  \u001b[31m   \u001b[0m x86_64-linux-gnu-gcc -Wno-unused-result -Wsign-compare -DNDEBUG -g -fwrapv -O2 -Wall -g -fstack-protector-strong -Wformat -Werror=format-security -g -fwrapv -O2 -fPIC -DNPY_NO_DEPRECATED_API=NPY_1_13_API_VERSION -I/tmp/pip-build-env-satcsviq/overlay/local/lib/python3.10/dist-packages/numpy/core/include -I/usr/include/python3.10 -c _pysndfile.cpp -o build/temp.linux-x86_64-cpython-310/_pysndfile.o\n",
      "  \u001b[31m   \u001b[0m In file included from _pysndfile.cpp:1139:\n",
      "  \u001b[31m   \u001b[0m pysndfile.hh:56:10: fatal error: sndfile.h: No such file or directory\n",
      "  \u001b[31m   \u001b[0m    56 | #include <sndfile.h>\n",
      "  \u001b[31m   \u001b[0m       |          ^~~~~~~~~~~\n",
      "  \u001b[31m   \u001b[0m compilation terminated.\n",
      "  \u001b[31m   \u001b[0m error: command '/usr/bin/x86_64-linux-gnu-gcc' failed with exit code 1\n",
      "  \u001b[31m   \u001b[0m \u001b[31m[end of output]\u001b[0m\n",
      "  \n",
      "  \u001b[1;35mnote\u001b[0m: This error originates from a subprocess, and is likely not a problem with pip.\n",
      "\u001b[31m  ERROR: Failed building wheel for pysndfile\u001b[0m\u001b[31m\n",
      "\u001b[0m\u001b[?25hFailed to build pysndfile\n",
      "\u001b[31mERROR: Could not build wheels for pysndfile, which is required to install pyproject.toml-based projects\u001b[0m\u001b[31m\n",
      "\u001b[0m"
     ]
    }
   ],
   "source": [
    "!pip install pysndfile"
   ]
  },
  {
   "cell_type": "code",
   "execution_count": 67,
   "id": "e6e4ceb0",
   "metadata": {},
   "outputs": [
    {
     "ename": "ModuleNotFoundError",
     "evalue": "No module named 'hydra'",
     "output_type": "error",
     "traceback": [
      "\u001b[0;31m---------------------------------------------------------------------------\u001b[0m",
      "\u001b[0;31mModuleNotFoundError\u001b[0m                       Traceback (most recent call last)",
      "Cell \u001b[0;32mIn[67], line 1\u001b[0m\n\u001b[0;32m----> 1\u001b[0m \u001b[38;5;28;01mimport\u001b[39;00m \u001b[38;5;21;01mnemo\u001b[39;00m\u001b[38;5;21;01m.\u001b[39;00m\u001b[38;5;21;01mcollections\u001b[39;00m\u001b[38;5;21;01m.\u001b[39;00m\u001b[38;5;21;01masr\u001b[39;00m \u001b[38;5;28;01mas\u001b[39;00m \u001b[38;5;21;01mnemo_asr\u001b[39;00m\n\u001b[1;32m      2\u001b[0m \u001b[38;5;28;01mimport\u001b[39;00m \u001b[38;5;21;01mnumpy\u001b[39;00m \u001b[38;5;28;01mas\u001b[39;00m \u001b[38;5;21;01mnp\u001b[39;00m\n\u001b[1;32m      3\u001b[0m \u001b[38;5;28;01mimport\u001b[39;00m \u001b[38;5;21;01msoundfile\u001b[39;00m \u001b[38;5;28;01mas\u001b[39;00m \u001b[38;5;21;01msf\u001b[39;00m\n",
      "File \u001b[0;32m~/.local/lib/python3.10/site-packages/nemo/collections/asr/__init__.py:15\u001b[0m\n\u001b[1;32m      1\u001b[0m \u001b[38;5;66;03m# Copyright (c) 2020, NVIDIA CORPORATION.  All rights reserved.\u001b[39;00m\n\u001b[1;32m      2\u001b[0m \u001b[38;5;66;03m#\u001b[39;00m\n\u001b[1;32m      3\u001b[0m \u001b[38;5;66;03m# Licensed under the Apache License, Version 2.0 (the \"License\");\u001b[39;00m\n\u001b[0;32m   (...)\u001b[0m\n\u001b[1;32m     12\u001b[0m \u001b[38;5;66;03m# See the License for the specific language governing permissions and\u001b[39;00m\n\u001b[1;32m     13\u001b[0m \u001b[38;5;66;03m# limitations under the License.\u001b[39;00m\n\u001b[0;32m---> 15\u001b[0m \u001b[38;5;28;01mfrom\u001b[39;00m \u001b[38;5;21;01mnemo\u001b[39;00m\u001b[38;5;21;01m.\u001b[39;00m\u001b[38;5;21;01mcollections\u001b[39;00m\u001b[38;5;21;01m.\u001b[39;00m\u001b[38;5;21;01masr\u001b[39;00m \u001b[38;5;28;01mimport\u001b[39;00m data, losses, models, modules\n\u001b[1;32m     16\u001b[0m \u001b[38;5;28;01mfrom\u001b[39;00m \u001b[38;5;21;01mnemo\u001b[39;00m\u001b[38;5;21;01m.\u001b[39;00m\u001b[38;5;21;01mpackage_info\u001b[39;00m \u001b[38;5;28;01mimport\u001b[39;00m __version__\n\u001b[1;32m     18\u001b[0m \u001b[38;5;66;03m# Set collection version equal to NeMo version.\u001b[39;00m\n",
      "File \u001b[0;32m~/.local/lib/python3.10/site-packages/nemo/collections/asr/losses/__init__.py:15\u001b[0m\n\u001b[1;32m      1\u001b[0m \u001b[38;5;66;03m# Copyright (c) 2020, NVIDIA CORPORATION.  All rights reserved.\u001b[39;00m\n\u001b[1;32m      2\u001b[0m \u001b[38;5;66;03m#\u001b[39;00m\n\u001b[1;32m      3\u001b[0m \u001b[38;5;66;03m# Licensed under the Apache License, Version 2.0 (the \"License\");\u001b[39;00m\n\u001b[0;32m   (...)\u001b[0m\n\u001b[1;32m     12\u001b[0m \u001b[38;5;66;03m# See the License for the specific language governing permissions and\u001b[39;00m\n\u001b[1;32m     13\u001b[0m \u001b[38;5;66;03m# limitations under the License.\u001b[39;00m\n\u001b[0;32m---> 15\u001b[0m \u001b[38;5;28;01mfrom\u001b[39;00m \u001b[38;5;21;01mnemo\u001b[39;00m\u001b[38;5;21;01m.\u001b[39;00m\u001b[38;5;21;01mcollections\u001b[39;00m\u001b[38;5;21;01m.\u001b[39;00m\u001b[38;5;21;01masr\u001b[39;00m\u001b[38;5;21;01m.\u001b[39;00m\u001b[38;5;21;01mlosses\u001b[39;00m\u001b[38;5;21;01m.\u001b[39;00m\u001b[38;5;21;01mangularloss\u001b[39;00m \u001b[38;5;28;01mimport\u001b[39;00m AngularSoftmaxLoss\n\u001b[1;32m     16\u001b[0m \u001b[38;5;28;01mfrom\u001b[39;00m \u001b[38;5;21;01mnemo\u001b[39;00m\u001b[38;5;21;01m.\u001b[39;00m\u001b[38;5;21;01mcollections\u001b[39;00m\u001b[38;5;21;01m.\u001b[39;00m\u001b[38;5;21;01masr\u001b[39;00m\u001b[38;5;21;01m.\u001b[39;00m\u001b[38;5;21;01mlosses\u001b[39;00m\u001b[38;5;21;01m.\u001b[39;00m\u001b[38;5;21;01maudio_losses\u001b[39;00m \u001b[38;5;28;01mimport\u001b[39;00m SDRLoss\n\u001b[1;32m     17\u001b[0m \u001b[38;5;28;01mfrom\u001b[39;00m \u001b[38;5;21;01mnemo\u001b[39;00m\u001b[38;5;21;01m.\u001b[39;00m\u001b[38;5;21;01mcollections\u001b[39;00m\u001b[38;5;21;01m.\u001b[39;00m\u001b[38;5;21;01masr\u001b[39;00m\u001b[38;5;21;01m.\u001b[39;00m\u001b[38;5;21;01mlosses\u001b[39;00m\u001b[38;5;21;01m.\u001b[39;00m\u001b[38;5;21;01mctc\u001b[39;00m \u001b[38;5;28;01mimport\u001b[39;00m CTCLoss\n",
      "File \u001b[0;32m~/.local/lib/python3.10/site-packages/nemo/collections/asr/losses/angularloss.py:18\u001b[0m\n\u001b[1;32m      1\u001b[0m \u001b[38;5;66;03m# ! /usr/bin/python\u001b[39;00m\n\u001b[1;32m      2\u001b[0m \u001b[38;5;66;03m# Copyright (c) 2020, NVIDIA CORPORATION.  All rights reserved.\u001b[39;00m\n\u001b[1;32m      3\u001b[0m \u001b[38;5;66;03m#\u001b[39;00m\n\u001b[0;32m   (...)\u001b[0m\n\u001b[1;32m     13\u001b[0m \u001b[38;5;66;03m# See the License for the specific language governing permissions and\u001b[39;00m\n\u001b[1;32m     14\u001b[0m \u001b[38;5;66;03m# limitations under the License.\u001b[39;00m\n\u001b[1;32m     16\u001b[0m \u001b[38;5;28;01mimport\u001b[39;00m \u001b[38;5;21;01mtorch\u001b[39;00m\n\u001b[0;32m---> 18\u001b[0m \u001b[38;5;28;01mfrom\u001b[39;00m \u001b[38;5;21;01mnemo\u001b[39;00m\u001b[38;5;21;01m.\u001b[39;00m\u001b[38;5;21;01mcore\u001b[39;00m\u001b[38;5;21;01m.\u001b[39;00m\u001b[38;5;21;01mclasses\u001b[39;00m \u001b[38;5;28;01mimport\u001b[39;00m Loss, Typing, typecheck\n\u001b[1;32m     19\u001b[0m \u001b[38;5;28;01mfrom\u001b[39;00m \u001b[38;5;21;01mnemo\u001b[39;00m\u001b[38;5;21;01m.\u001b[39;00m\u001b[38;5;21;01mcore\u001b[39;00m\u001b[38;5;21;01m.\u001b[39;00m\u001b[38;5;21;01mneural_types\u001b[39;00m \u001b[38;5;28;01mimport\u001b[39;00m LabelsType, LogitsType, LossType, NeuralType\n\u001b[1;32m     21\u001b[0m __all__ \u001b[38;5;241m=\u001b[39m [\u001b[38;5;124m'\u001b[39m\u001b[38;5;124mAngularSoftmaxLoss\u001b[39m\u001b[38;5;124m'\u001b[39m]\n",
      "File \u001b[0;32m~/.local/lib/python3.10/site-packages/nemo/core/__init__.py:16\u001b[0m\n\u001b[1;32m      1\u001b[0m \u001b[38;5;66;03m# Copyright (c) 2020, NVIDIA CORPORATION.  All rights reserved.\u001b[39;00m\n\u001b[1;32m      2\u001b[0m \u001b[38;5;66;03m#\u001b[39;00m\n\u001b[1;32m      3\u001b[0m \u001b[38;5;66;03m# Licensed under the Apache License, Version 2.0 (the \"License\");\u001b[39;00m\n\u001b[0;32m   (...)\u001b[0m\n\u001b[1;32m     12\u001b[0m \u001b[38;5;66;03m# See the License for the specific language governing permissions and\u001b[39;00m\n\u001b[1;32m     13\u001b[0m \u001b[38;5;66;03m# limitations under the License.\u001b[39;00m\n\u001b[1;32m     15\u001b[0m \u001b[38;5;28;01mimport\u001b[39;00m \u001b[38;5;21;01mnemo\u001b[39;00m\u001b[38;5;21;01m.\u001b[39;00m\u001b[38;5;21;01mcore\u001b[39;00m\u001b[38;5;21;01m.\u001b[39;00m\u001b[38;5;21;01mneural_types\u001b[39;00m\n\u001b[0;32m---> 16\u001b[0m \u001b[38;5;28;01mfrom\u001b[39;00m \u001b[38;5;21;01mnemo\u001b[39;00m\u001b[38;5;21;01m.\u001b[39;00m\u001b[38;5;21;01mcore\u001b[39;00m\u001b[38;5;21;01m.\u001b[39;00m\u001b[38;5;21;01mclasses\u001b[39;00m \u001b[38;5;28;01mimport\u001b[39;00m \u001b[38;5;241m*\u001b[39m\n",
      "File \u001b[0;32m~/.local/lib/python3.10/site-packages/nemo/core/classes/__init__.py:16\u001b[0m\n\u001b[1;32m      1\u001b[0m \u001b[38;5;66;03m# Copyright (c) 2020, NVIDIA CORPORATION.  All rights reserved.\u001b[39;00m\n\u001b[1;32m      2\u001b[0m \u001b[38;5;66;03m#\u001b[39;00m\n\u001b[1;32m      3\u001b[0m \u001b[38;5;66;03m# Licensed under the Apache License, Version 2.0 (the \"License\");\u001b[39;00m\n\u001b[0;32m   (...)\u001b[0m\n\u001b[1;32m     12\u001b[0m \u001b[38;5;66;03m# See the License for the specific language governing permissions and\u001b[39;00m\n\u001b[1;32m     13\u001b[0m \u001b[38;5;66;03m# limitations under the License.\u001b[39;00m\n\u001b[0;32m---> 16\u001b[0m \u001b[38;5;28;01mimport\u001b[39;00m \u001b[38;5;21;01mhydra\u001b[39;00m\n\u001b[1;32m     17\u001b[0m \u001b[38;5;28;01mimport\u001b[39;00m \u001b[38;5;21;01momegaconf\u001b[39;00m\n\u001b[1;32m     18\u001b[0m \u001b[38;5;28;01mimport\u001b[39;00m \u001b[38;5;21;01mpytorch_lightning\u001b[39;00m\n",
      "\u001b[0;31mModuleNotFoundError\u001b[0m: No module named 'hydra'"
     ]
    }
   ],
   "source": [
    "import nemo.collections.asr as nemo_asr\n",
    "import numpy as np\n",
    "import soundfile as sf\n",
    "\n",
    "# Load the audio file using soundfile\n",
    "audio_file = audio\n",
    "signal, sample_rate = sf.read(audio_file)\n",
    "\n",
    "# Load the Nemo ASR model\n",
    "asr_model = nemo_asr.models.EncDecCTCModel.from_pretrained(model_name=\"QuartzNet15x5Base-En\")\n",
    "\n",
    "# Tokenize the target word \"chatgpt\"\n",
    "target_word = \"chatgpt\"\n",
    "target_tokens = asr_model.tokenizer.tokenize(target_word)[0]\n",
    "\n",
    "# Split the audio into chunks\n",
    "chunk_size = 10  # seconds\n",
    "chunk_length = chunk_size * sample_rate\n",
    "\n",
    "timestamps = []\n",
    "\n",
    "for i in range(0, len(signal), chunk_length):\n",
    "    audio_chunk = signal[i:i + chunk_length]\n",
    "    \n",
    "    # Perform inference using the ASR model\n",
    "    audio_input = np.expand_dims(audio_chunk, axis=0)\n",
    "    predicted_tokens = asr_model.transcribe(audio_input)\n",
    "    \n",
    "    # Find the occurrences of the target word in the predicted tokens\n",
    "    occurrences = [idx for idx, token in enumerate(predicted_tokens[0]) if token == target_tokens]\n",
    "    \n",
    "    # Calculate timestamps for the occurrences\n",
    "    for occurrence in occurrences:\n",
    "        start_time = i + (occurrence * chunk_length / len(predicted_tokens[0]))\n",
    "        timestamps.append(start_time / sample_rate)\n",
    "\n",
    "print(\"Timestamps of 'chatgpt' occurrences:\", timestamps)\n"
   ]
  },
  {
   "cell_type": "code",
   "execution_count": 71,
   "id": "948ce510",
   "metadata": {},
   "outputs": [
    {
     "name": "stdout",
     "output_type": "stream",
     "text": [
      "Defaulting to user installation because normal site-packages is not writeable\n",
      "Collecting hydra\n",
      "  Using cached Hydra-2.5.tar.gz (82 kB)\n",
      "  Preparing metadata (setup.py) ... \u001b[?25ldone\n",
      "\u001b[?25hBuilding wheels for collected packages: hydra\n",
      "  Building wheel for hydra (setup.py) ... \u001b[?25lerror\n",
      "  \u001b[1;31merror\u001b[0m: \u001b[1msubprocess-exited-with-error\u001b[0m\n",
      "  \n",
      "  \u001b[31m×\u001b[0m \u001b[32mpython setup.py bdist_wheel\u001b[0m did not run successfully.\n",
      "  \u001b[31m│\u001b[0m exit code: \u001b[1;36m1\u001b[0m\n",
      "  \u001b[31m╰─>\u001b[0m \u001b[31m[164 lines of output]\u001b[0m\n",
      "  \u001b[31m   \u001b[0m running bdist_wheel\n",
      "  \u001b[31m   \u001b[0m running build\n",
      "  \u001b[31m   \u001b[0m running build_py\n",
      "  \u001b[31m   \u001b[0m creating build\n",
      "  \u001b[31m   \u001b[0m creating build/lib.linux-x86_64-cpython-310\n",
      "  \u001b[31m   \u001b[0m copying src/hydra.py -> build/lib.linux-x86_64-cpython-310\n",
      "  \u001b[31m   \u001b[0m running build_ext\n",
      "  \u001b[31m   \u001b[0m building '_hydra' extension\n",
      "  \u001b[31m   \u001b[0m creating build/temp.linux-x86_64-cpython-310\n",
      "  \u001b[31m   \u001b[0m creating build/temp.linux-x86_64-cpython-310/src\n",
      "  \u001b[31m   \u001b[0m x86_64-linux-gnu-gcc -Wno-unused-result -Wsign-compare -DNDEBUG -g -fwrapv -O2 -Wall -g -fstack-protector-strong -Wformat -Werror=format-security -g -fwrapv -O2 -fPIC -I/tmp/pip-install-84h03tmj/hydra_e56d5dd2639c42eab75a5c663d0d3f0f/src -I/usr/include/python3.10 -c src/MurmurHash3.c -o build/temp.linux-x86_64-cpython-310/src/MurmurHash3.o -std=gnu99 -O2 -D_LARGEFILE64_SOURCE\n",
      "  \u001b[31m   \u001b[0m x86_64-linux-gnu-gcc -Wno-unused-result -Wsign-compare -DNDEBUG -g -fwrapv -O2 -Wall -g -fstack-protector-strong -Wformat -Werror=format-security -g -fwrapv -O2 -fPIC -I/tmp/pip-install-84h03tmj/hydra_e56d5dd2639c42eab75a5c663d0d3f0f/src -I/usr/include/python3.10 -c src/_hydra.c -o build/temp.linux-x86_64-cpython-310/src/_hydra.o -std=gnu99 -O2 -D_LARGEFILE64_SOURCE\n",
      "  \u001b[31m   \u001b[0m src/_hydra.c: In function ‘__pyx_pf_6_hydra_8MMapIter_2__next__’:\n",
      "  \u001b[31m   \u001b[0m src/_hydra.c:3377:36: warning: comparison of integer expressions of different signedness: ‘size_t’ {aka ‘long unsigned int’} and ‘Py_ssize_t’ {aka ‘long int’} [-Wsign-compare]\n",
      "  \u001b[31m   \u001b[0m  3377 |   __pyx_t_3 = ((__pyx_v_self->_idx < __pyx_t_2) != 0);\n",
      "  \u001b[31m   \u001b[0m       |                                    ^\n",
      "  \u001b[31m   \u001b[0m src/_hydra.c: In function ‘__pyx_tp_dealloc_6_hydra_MMapBitField’:\n",
      "  \u001b[31m   \u001b[0m src/_hydra.c:7445:5: error: lvalue required as increment operand\n",
      "  \u001b[31m   \u001b[0m  7445 |     ++Py_REFCNT(o);\n",
      "  \u001b[31m   \u001b[0m       |     ^~\n",
      "  \u001b[31m   \u001b[0m src/_hydra.c:7447:5: error: lvalue required as decrement operand\n",
      "  \u001b[31m   \u001b[0m  7447 |     --Py_REFCNT(o);\n",
      "  \u001b[31m   \u001b[0m       |     ^~\n",
      "  \u001b[31m   \u001b[0m src/_hydra.c: In function ‘PyInit__hydra’:\n",
      "  \u001b[31m   \u001b[0m src/_hydra.c:8530:34: error: ‘PyTypeObject’ {aka ‘struct _typeobject’} has no member named ‘tp_print’\n",
      "  \u001b[31m   \u001b[0m  8530 |   __pyx_type_6_hydra_MMapBitField.tp_print = 0;\n",
      "  \u001b[31m   \u001b[0m       |                                  ^\n",
      "  \u001b[31m   \u001b[0m src/_hydra.c:8535:30: error: ‘PyTypeObject’ {aka ‘struct _typeobject’} has no member named ‘tp_print’\n",
      "  \u001b[31m   \u001b[0m  8535 |   __pyx_type_6_hydra_MMapIter.tp_print = 0;\n",
      "  \u001b[31m   \u001b[0m       |                              ^\n",
      "  \u001b[31m   \u001b[0m src/_hydra.c:8539:39: error: ‘PyTypeObject’ {aka ‘struct _typeobject’} has no member named ‘tp_print’\n",
      "  \u001b[31m   \u001b[0m  8539 |   __pyx_type_6_hydra_BloomCalculations.tp_print = 0;\n",
      "  \u001b[31m   \u001b[0m       |                                       ^\n",
      "  \u001b[31m   \u001b[0m src/_hydra.c:8551:33: error: ‘PyTypeObject’ {aka ‘struct _typeobject’} has no member named ‘tp_print’\n",
      "  \u001b[31m   \u001b[0m  8551 |   __pyx_type_6_hydra_BloomFilter.tp_print = 0;\n",
      "  \u001b[31m   \u001b[0m       |                                 ^\n",
      "  \u001b[31m   \u001b[0m src/_hydra.c: In function ‘__Pyx_ParseOptionalKeywords’:\n",
      "  \u001b[31m   \u001b[0m src/_hydra.c:9924:21: warning: ‘_PyUnicode_get_wstr_length’ is deprecated [-Wdeprecated-declarations]\n",
      "  \u001b[31m   \u001b[0m  9924 |                     (PyUnicode_GET_SIZE(**name) != PyUnicode_GET_SIZE(key)) ? 1 :\n",
      "  \u001b[31m   \u001b[0m       |                     ^\n",
      "  \u001b[31m   \u001b[0m In file included from /usr/include/python3.10/unicodeobject.h:1046,\n",
      "  \u001b[31m   \u001b[0m                  from /usr/include/python3.10/Python.h:83,\n",
      "  \u001b[31m   \u001b[0m                  from src/_hydra.c:16:\n",
      "  \u001b[31m   \u001b[0m /usr/include/python3.10/cpython/unicodeobject.h:446:26: note: declared here\n",
      "  \u001b[31m   \u001b[0m   446 | static inline Py_ssize_t _PyUnicode_get_wstr_length(PyObject *op) {\n",
      "  \u001b[31m   \u001b[0m       |                          ^~~~~~~~~~~~~~~~~~~~~~~~~~\n",
      "  \u001b[31m   \u001b[0m src/_hydra.c:9924:21: warning: ‘PyUnicode_AsUnicode’ is deprecated [-Wdeprecated-declarations]\n",
      "  \u001b[31m   \u001b[0m  9924 |                     (PyUnicode_GET_SIZE(**name) != PyUnicode_GET_SIZE(key)) ? 1 :\n",
      "  \u001b[31m   \u001b[0m       |                     ^\n",
      "  \u001b[31m   \u001b[0m In file included from /usr/include/python3.10/unicodeobject.h:1046,\n",
      "  \u001b[31m   \u001b[0m                  from /usr/include/python3.10/Python.h:83,\n",
      "  \u001b[31m   \u001b[0m                  from src/_hydra.c:16:\n",
      "  \u001b[31m   \u001b[0m /usr/include/python3.10/cpython/unicodeobject.h:580:45: note: declared here\n",
      "  \u001b[31m   \u001b[0m   580 | Py_DEPRECATED(3.3) PyAPI_FUNC(Py_UNICODE *) PyUnicode_AsUnicode(\n",
      "  \u001b[31m   \u001b[0m       |                                             ^~~~~~~~~~~~~~~~~~~\n",
      "  \u001b[31m   \u001b[0m src/_hydra.c:9924:21: warning: ‘_PyUnicode_get_wstr_length’ is deprecated [-Wdeprecated-declarations]\n",
      "  \u001b[31m   \u001b[0m  9924 |                     (PyUnicode_GET_SIZE(**name) != PyUnicode_GET_SIZE(key)) ? 1 :\n",
      "  \u001b[31m   \u001b[0m       |                     ^\n",
      "  \u001b[31m   \u001b[0m In file included from /usr/include/python3.10/unicodeobject.h:1046,\n",
      "  \u001b[31m   \u001b[0m                  from /usr/include/python3.10/Python.h:83,\n",
      "  \u001b[31m   \u001b[0m                  from src/_hydra.c:16:\n",
      "  \u001b[31m   \u001b[0m /usr/include/python3.10/cpython/unicodeobject.h:446:26: note: declared here\n",
      "  \u001b[31m   \u001b[0m   446 | static inline Py_ssize_t _PyUnicode_get_wstr_length(PyObject *op) {\n",
      "  \u001b[31m   \u001b[0m       |                          ^~~~~~~~~~~~~~~~~~~~~~~~~~\n",
      "  \u001b[31m   \u001b[0m src/_hydra.c:9924:21: warning: ‘_PyUnicode_get_wstr_length’ is deprecated [-Wdeprecated-declarations]\n",
      "  \u001b[31m   \u001b[0m  9924 |                     (PyUnicode_GET_SIZE(**name) != PyUnicode_GET_SIZE(key)) ? 1 :\n",
      "  \u001b[31m   \u001b[0m       |                     ^\n",
      "  \u001b[31m   \u001b[0m In file included from /usr/include/python3.10/unicodeobject.h:1046,\n",
      "  \u001b[31m   \u001b[0m                  from /usr/include/python3.10/Python.h:83,\n",
      "  \u001b[31m   \u001b[0m                  from src/_hydra.c:16:\n",
      "  \u001b[31m   \u001b[0m /usr/include/python3.10/cpython/unicodeobject.h:446:26: note: declared here\n",
      "  \u001b[31m   \u001b[0m   446 | static inline Py_ssize_t _PyUnicode_get_wstr_length(PyObject *op) {\n",
      "  \u001b[31m   \u001b[0m       |                          ^~~~~~~~~~~~~~~~~~~~~~~~~~\n",
      "  \u001b[31m   \u001b[0m src/_hydra.c:9924:21: warning: ‘PyUnicode_AsUnicode’ is deprecated [-Wdeprecated-declarations]\n",
      "  \u001b[31m   \u001b[0m  9924 |                     (PyUnicode_GET_SIZE(**name) != PyUnicode_GET_SIZE(key)) ? 1 :\n",
      "  \u001b[31m   \u001b[0m       |                     ^\n",
      "  \u001b[31m   \u001b[0m In file included from /usr/include/python3.10/unicodeobject.h:1046,\n",
      "  \u001b[31m   \u001b[0m                  from /usr/include/python3.10/Python.h:83,\n",
      "  \u001b[31m   \u001b[0m                  from src/_hydra.c:16:\n",
      "  \u001b[31m   \u001b[0m /usr/include/python3.10/cpython/unicodeobject.h:580:45: note: declared here\n",
      "  \u001b[31m   \u001b[0m   580 | Py_DEPRECATED(3.3) PyAPI_FUNC(Py_UNICODE *) PyUnicode_AsUnicode(\n",
      "  \u001b[31m   \u001b[0m       |                                             ^~~~~~~~~~~~~~~~~~~\n",
      "  \u001b[31m   \u001b[0m src/_hydra.c:9924:21: warning: ‘_PyUnicode_get_wstr_length’ is deprecated [-Wdeprecated-declarations]\n",
      "  \u001b[31m   \u001b[0m  9924 |                     (PyUnicode_GET_SIZE(**name) != PyUnicode_GET_SIZE(key)) ? 1 :\n",
      "  \u001b[31m   \u001b[0m       |                     ^\n",
      "  \u001b[31m   \u001b[0m In file included from /usr/include/python3.10/unicodeobject.h:1046,\n",
      "  \u001b[31m   \u001b[0m                  from /usr/include/python3.10/Python.h:83,\n",
      "  \u001b[31m   \u001b[0m                  from src/_hydra.c:16:\n",
      "  \u001b[31m   \u001b[0m /usr/include/python3.10/cpython/unicodeobject.h:446:26: note: declared here\n",
      "  \u001b[31m   \u001b[0m   446 | static inline Py_ssize_t _PyUnicode_get_wstr_length(PyObject *op) {\n",
      "  \u001b[31m   \u001b[0m       |                          ^~~~~~~~~~~~~~~~~~~~~~~~~~\n",
      "  \u001b[31m   \u001b[0m src/_hydra.c:9940:25: warning: ‘_PyUnicode_get_wstr_length’ is deprecated [-Wdeprecated-declarations]\n",
      "  \u001b[31m   \u001b[0m  9940 |                         (PyUnicode_GET_SIZE(**argname) != PyUnicode_GET_SIZE(key)) ? 1 :\n",
      "  \u001b[31m   \u001b[0m       |                         ^\n",
      "  \u001b[31m   \u001b[0m In file included from /usr/include/python3.10/unicodeobject.h:1046,\n",
      "  \u001b[31m   \u001b[0m                  from /usr/include/python3.10/Python.h:83,\n",
      "  \u001b[31m   \u001b[0m                  from src/_hydra.c:16:\n",
      "  \u001b[31m   \u001b[0m /usr/include/python3.10/cpython/unicodeobject.h:446:26: note: declared here\n",
      "  \u001b[31m   \u001b[0m   446 | static inline Py_ssize_t _PyUnicode_get_wstr_length(PyObject *op) {\n",
      "  \u001b[31m   \u001b[0m       |                          ^~~~~~~~~~~~~~~~~~~~~~~~~~\n",
      "  \u001b[31m   \u001b[0m src/_hydra.c:9940:25: warning: ‘PyUnicode_AsUnicode’ is deprecated [-Wdeprecated-declarations]\n",
      "  \u001b[31m   \u001b[0m  9940 |                         (PyUnicode_GET_SIZE(**argname) != PyUnicode_GET_SIZE(key)) ? 1 :\n",
      "  \u001b[31m   \u001b[0m       |                         ^\n",
      "  \u001b[31m   \u001b[0m In file included from /usr/include/python3.10/unicodeobject.h:1046,\n",
      "  \u001b[31m   \u001b[0m                  from /usr/include/python3.10/Python.h:83,\n",
      "  \u001b[31m   \u001b[0m                  from src/_hydra.c:16:\n",
      "  \u001b[31m   \u001b[0m /usr/include/python3.10/cpython/unicodeobject.h:580:45: note: declared here\n",
      "  \u001b[31m   \u001b[0m   580 | Py_DEPRECATED(3.3) PyAPI_FUNC(Py_UNICODE *) PyUnicode_AsUnicode(\n",
      "  \u001b[31m   \u001b[0m       |                                             ^~~~~~~~~~~~~~~~~~~\n",
      "  \u001b[31m   \u001b[0m src/_hydra.c:9940:25: warning: ‘_PyUnicode_get_wstr_length’ is deprecated [-Wdeprecated-declarations]\n",
      "  \u001b[31m   \u001b[0m  9940 |                         (PyUnicode_GET_SIZE(**argname) != PyUnicode_GET_SIZE(key)) ? 1 :\n",
      "  \u001b[31m   \u001b[0m       |                         ^\n",
      "  \u001b[31m   \u001b[0m In file included from /usr/include/python3.10/unicodeobject.h:1046,\n",
      "  \u001b[31m   \u001b[0m                  from /usr/include/python3.10/Python.h:83,\n",
      "  \u001b[31m   \u001b[0m                  from src/_hydra.c:16:\n",
      "  \u001b[31m   \u001b[0m /usr/include/python3.10/cpython/unicodeobject.h:446:26: note: declared here\n",
      "  \u001b[31m   \u001b[0m   446 | static inline Py_ssize_t _PyUnicode_get_wstr_length(PyObject *op) {\n",
      "  \u001b[31m   \u001b[0m       |                          ^~~~~~~~~~~~~~~~~~~~~~~~~~\n",
      "  \u001b[31m   \u001b[0m src/_hydra.c:9940:25: warning: ‘_PyUnicode_get_wstr_length’ is deprecated [-Wdeprecated-declarations]\n",
      "  \u001b[31m   \u001b[0m  9940 |                         (PyUnicode_GET_SIZE(**argname) != PyUnicode_GET_SIZE(key)) ? 1 :\n",
      "  \u001b[31m   \u001b[0m       |                         ^\n",
      "  \u001b[31m   \u001b[0m In file included from /usr/include/python3.10/unicodeobject.h:1046,\n",
      "  \u001b[31m   \u001b[0m                  from /usr/include/python3.10/Python.h:83,\n",
      "  \u001b[31m   \u001b[0m                  from src/_hydra.c:16:\n",
      "  \u001b[31m   \u001b[0m /usr/include/python3.10/cpython/unicodeobject.h:446:26: note: declared here\n",
      "  \u001b[31m   \u001b[0m   446 | static inline Py_ssize_t _PyUnicode_get_wstr_length(PyObject *op) {\n",
      "  \u001b[31m   \u001b[0m       |                          ^~~~~~~~~~~~~~~~~~~~~~~~~~\n",
      "  \u001b[31m   \u001b[0m src/_hydra.c:9940:25: warning: ‘PyUnicode_AsUnicode’ is deprecated [-Wdeprecated-declarations]\n",
      "  \u001b[31m   \u001b[0m  9940 |                         (PyUnicode_GET_SIZE(**argname) != PyUnicode_GET_SIZE(key)) ? 1 :\n",
      "  \u001b[31m   \u001b[0m       |                         ^\n",
      "  \u001b[31m   \u001b[0m In file included from /usr/include/python3.10/unicodeobject.h:1046,\n",
      "  \u001b[31m   \u001b[0m                  from /usr/include/python3.10/Python.h:83,\n",
      "  \u001b[31m   \u001b[0m                  from src/_hydra.c:16:\n",
      "  \u001b[31m   \u001b[0m /usr/include/python3.10/cpython/unicodeobject.h:580:45: note: declared here\n",
      "  \u001b[31m   \u001b[0m   580 | Py_DEPRECATED(3.3) PyAPI_FUNC(Py_UNICODE *) PyUnicode_AsUnicode(\n",
      "  \u001b[31m   \u001b[0m       |                                             ^~~~~~~~~~~~~~~~~~~\n",
      "  \u001b[31m   \u001b[0m src/_hydra.c:9940:25: warning: ‘_PyUnicode_get_wstr_length’ is deprecated [-Wdeprecated-declarations]\n",
      "  \u001b[31m   \u001b[0m  9940 |                         (PyUnicode_GET_SIZE(**argname) != PyUnicode_GET_SIZE(key)) ? 1 :\n",
      "  \u001b[31m   \u001b[0m       |                         ^\n",
      "  \u001b[31m   \u001b[0m In file included from /usr/include/python3.10/unicodeobject.h:1046,\n",
      "  \u001b[31m   \u001b[0m                  from /usr/include/python3.10/Python.h:83,\n",
      "  \u001b[31m   \u001b[0m                  from src/_hydra.c:16:\n",
      "  \u001b[31m   \u001b[0m /usr/include/python3.10/cpython/unicodeobject.h:446:26: note: declared here\n",
      "  \u001b[31m   \u001b[0m   446 | static inline Py_ssize_t _PyUnicode_get_wstr_length(PyObject *op) {\n",
      "  \u001b[31m   \u001b[0m       |                          ^~~~~~~~~~~~~~~~~~~~~~~~~~\n",
      "  \u001b[31m   \u001b[0m src/_hydra.c: In function ‘__Pyx_CyFunction_Call’:\n",
      "  \u001b[31m   \u001b[0m src/_hydra.c:11521:9: warning: ‘PyCFunction_Call’ is deprecated [-Wdeprecated-declarations]\n",
      "  \u001b[31m   \u001b[0m 11521 |         return PyCFunction_Call(func, arg, kw);\n",
      "  \u001b[31m   \u001b[0m       |         ^~~~~~\n",
      "  \u001b[31m   \u001b[0m In file included from /usr/include/python3.10/Python.h:97,\n",
      "  \u001b[31m   \u001b[0m                  from src/_hydra.c:16:\n",
      "  \u001b[31m   \u001b[0m /usr/include/python3.10/methodobject.h:33:43: note: declared here\n",
      "  \u001b[31m   \u001b[0m    33 | Py_DEPRECATED(3.9) PyAPI_FUNC(PyObject *) PyCFunction_Call(PyObject *, PyObject *, PyObject *);\n",
      "  \u001b[31m   \u001b[0m       |                                           ^~~~~~~~~~~~~~~~\n",
      "  \u001b[31m   \u001b[0m src/_hydra.c: In function ‘__pyx_CyFunction_init’:\n",
      "  \u001b[31m   \u001b[0m src/_hydra.c:11586:5: warning: ‘PyCFunction_Call’ is deprecated [-Wdeprecated-declarations]\n",
      "  \u001b[31m   \u001b[0m 11586 |     __pyx_CyFunctionType_type.tp_call = PyCFunction_Call;\n",
      "  \u001b[31m   \u001b[0m       |     ^~~~~~~~~~~~~~~~~~~~~~~~~\n",
      "  \u001b[31m   \u001b[0m In file included from /usr/include/python3.10/Python.h:97,\n",
      "  \u001b[31m   \u001b[0m                  from src/_hydra.c:16:\n",
      "  \u001b[31m   \u001b[0m /usr/include/python3.10/methodobject.h:33:43: note: declared here\n",
      "  \u001b[31m   \u001b[0m    33 | Py_DEPRECATED(3.9) PyAPI_FUNC(PyObject *) PyCFunction_Call(PyObject *, PyObject *, PyObject *);\n",
      "  \u001b[31m   \u001b[0m       |                                           ^~~~~~~~~~~~~~~~\n",
      "  \u001b[31m   \u001b[0m error: command '/usr/bin/x86_64-linux-gnu-gcc' failed with exit code 1\n",
      "  \u001b[31m   \u001b[0m \u001b[31m[end of output]\u001b[0m\n",
      "  \n",
      "  \u001b[1;35mnote\u001b[0m: This error originates from a subprocess, and is likely not a problem with pip.\n",
      "\u001b[31m  ERROR: Failed building wheel for hydra\u001b[0m\u001b[31m\n",
      "\u001b[0m\u001b[?25h  Running setup.py clean for hydra\n"
     ]
    },
    {
     "name": "stdout",
     "output_type": "stream",
     "text": [
      "Failed to build hydra\r\n",
      "\u001b[31mERROR: Could not build wheels for hydra, which is required to install pyproject.toml-based projects\u001b[0m\u001b[31m\r\n",
      "\u001b[0m"
     ]
    }
   ],
   "source": [
    "!pip install hydra\n"
   ]
  },
  {
   "cell_type": "code",
   "execution_count": 69,
   "id": "69c1cd63",
   "metadata": {},
   "outputs": [
    {
     "name": "stdout",
     "output_type": "stream",
     "text": [
      "Defaulting to user installation because normal site-packages is not writeable\n",
      "Requirement already satisfied: pip in /home/archil/.local/lib/python3.10/site-packages (23.2.1)\n",
      "\u001b[33mDEPRECATION: distro-info 1.1build1 has a non-standard version number. pip 23.3 will enforce this behaviour change. A possible replacement is to upgrade to a newer version of distro-info or contact the author to suggest that they release a version with a conforming version number. Discussion can be found at https://github.com/pypa/pip/issues/12063\u001b[0m\u001b[33m\n",
      "\u001b[0m"
     ]
    }
   ],
   "source": [
    "!pip install --upgrade pip\n"
   ]
  },
  {
   "cell_type": "code",
   "execution_count": 70,
   "id": "e247433e",
   "metadata": {},
   "outputs": [
    {
     "name": "stdout",
     "output_type": "stream",
     "text": [
      "Defaulting to user installation because normal site-packages is not writeable\n",
      "Requirement already satisfied: setuptools in /home/archil/.local/lib/python3.10/site-packages (65.5.1)\n",
      "Collecting setuptools\n",
      "  Obtaining dependency information for setuptools from https://files.pythonhosted.org/packages/c7/42/be1c7bbdd83e1bfb160c94b9cafd8e25efc7400346cf7ccdbdb452c467fa/setuptools-68.0.0-py3-none-any.whl.metadata\n",
      "  Using cached setuptools-68.0.0-py3-none-any.whl.metadata (6.4 kB)\n",
      "Using cached setuptools-68.0.0-py3-none-any.whl (804 kB)\n",
      "\u001b[33mDEPRECATION: distro-info 1.1build1 has a non-standard version number. pip 23.3 will enforce this behaviour change. A possible replacement is to upgrade to a newer version of distro-info or contact the author to suggest that they release a version with a conforming version number. Discussion can be found at https://github.com/pypa/pip/issues/12063\u001b[0m\u001b[33m\n",
      "\u001b[0mInstalling collected packages: setuptools\n",
      "  Attempting uninstall: setuptools\n",
      "    Found existing installation: setuptools 65.5.1\n",
      "    Uninstalling setuptools-65.5.1:\n",
      "      Successfully uninstalled setuptools-65.5.1\n",
      "\u001b[31mERROR: pip's dependency resolver does not currently take into account all the packages that are installed. This behaviour is the source of the following dependency conflicts.\n",
      "nemo-toolkit 1.20.0 requires setuptools==65.5.1, but you have setuptools 68.0.0 which is incompatible.\u001b[0m\u001b[31m\n",
      "\u001b[0mSuccessfully installed setuptools-68.0.0\n"
     ]
    }
   ],
   "source": [
    "!pip install --upgrade setuptools\n"
   ]
  },
  {
   "cell_type": "code",
   "execution_count": null,
   "id": "61118df2",
   "metadata": {},
   "outputs": [],
   "source": []
  }
 ],
 "metadata": {
  "kernelspec": {
   "display_name": "Python 3 (ipykernel)",
   "language": "python",
   "name": "python3"
  },
  "language_info": {
   "codemirror_mode": {
    "name": "ipython",
    "version": 3
   },
   "file_extension": ".py",
   "mimetype": "text/x-python",
   "name": "python",
   "nbconvert_exporter": "python",
   "pygments_lexer": "ipython3",
   "version": "3.10.12"
  }
 },
 "nbformat": 4,
 "nbformat_minor": 5
}
