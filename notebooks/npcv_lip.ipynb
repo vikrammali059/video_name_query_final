{
 "cells": [
  {
   "cell_type": "code",
   "execution_count": 3,
   "id": "13fcfd4a-f528-4a9f-8ec8-7ea32e53dd71",
   "metadata": {},
   "outputs": [
    {
     "name": "stdout",
     "output_type": "stream",
     "text": [
      "Defaulting to user installation because normal site-packages is not writeable\n",
      "Collecting opencv-python\n",
      "  Obtaining dependency information for opencv-python from https://files.pythonhosted.org/packages/f5/d0/2e455d894ec0d6527e662ad55e70c04f421ad83a6fd0a54c3dd73c411282/opencv_python-4.8.0.76-cp37-abi3-manylinux_2_17_x86_64.manylinux2014_x86_64.whl.metadata\n",
      "  Downloading opencv_python-4.8.0.76-cp37-abi3-manylinux_2_17_x86_64.manylinux2014_x86_64.whl.metadata (19 kB)\n",
      "Requirement already satisfied: numpy>=1.21.2 in /home/fx/.local/lib/python3.10/site-packages (from opencv-python) (1.24.4)\n",
      "Downloading opencv_python-4.8.0.76-cp37-abi3-manylinux_2_17_x86_64.manylinux2014_x86_64.whl (61.7 MB)\n",
      "\u001b[2K   \u001b[38;2;114;156;31m━━━━━━━━━━━━━━━━━━━━━━━━━━━━━━━━━━━━━━━━\u001b[0m \u001b[32m61.7/61.7 MB\u001b[0m \u001b[31m3.5 MB/s\u001b[0m eta \u001b[36m0:00:00\u001b[0mm eta \u001b[36m0:00:01\u001b[0m[36m0:00:01\u001b[0m\n",
      "\u001b[?25h\u001b[33mDEPRECATION: distro-info 1.1build1 has a non-standard version number. pip 23.3 will enforce this behaviour change. A possible replacement is to upgrade to a newer version of distro-info or contact the author to suggest that they release a version with a conforming version number. Discussion can be found at https://github.com/pypa/pip/issues/12063\u001b[0m\u001b[33m\n",
      "\u001b[0m\u001b[33mDEPRECATION: python-debian 0.1.43ubuntu1 has a non-standard version number. pip 23.3 will enforce this behaviour change. A possible replacement is to upgrade to a newer version of python-debian or contact the author to suggest that they release a version with a conforming version number. Discussion can be found at https://github.com/pypa/pip/issues/12063\u001b[0m\u001b[33m\n",
      "\u001b[0mInstalling collected packages: opencv-python\n",
      "Successfully installed opencv-python-4.8.0.76\n"
     ]
    }
   ],
   "source": [
    "!pip install opencv-python"
   ]
  },
  {
   "cell_type": "code",
   "execution_count": null,
   "id": "10ecc2fb-c6f4-4f19-b14d-1a905eabb3f8",
   "metadata": {},
   "outputs": [],
   "source": [
    "import moviepy.editor as mpy\n",
    "import numpy as np\n",
    "import cv2\n",
    "\n",
    "def lip_sync(video_clip, audio_file):\n",
    "    # Convert the audio file to a numpy array.\n",
    "    audio_array = np.fromfile(audio_file, np.int16)\n",
    "\n",
    "    # Convert the video clip to a list of frames.\n",
    "    video_frames = [frame for frame in video_clip.iter_frames()]\n",
    "\n",
    "    # Load and preprocess the lip mask.\n",
    "    lip_mask = cv2.imread(\"lip_mask.png\", cv2.IMREAD_GRAYSCALE)\n",
    "\n",
    "    # Define the lip tracking region.\n",
    "    lip_region = (x_start, y_start, x_end, y_end)  # Adjust these coordinates\n",
    "\n",
    "    # Track the movement of the lips in the video clip.\n",
    "    lip_positions = []\n",
    "    for frame in video_frames:\n",
    "        lip_frame = frame[y_start:y_end, x_start:x_end]\n",
    "        lip_position = cv2.matchTemplate(lip_frame, lip_mask, cv2.TM_CCOEFF_NORMED)\n",
    "        lip_positions.append(lip_position)\n",
    "\n",
    "    # Create the output video clip with the original audio.\n",
    "    lip_synced_clip = mpy.VideoFileClip(\"input.mp4\").subclip(8, 10)\n",
    "    lip_synced_clip = lip_synced_clip.set_audio(mpy.AudioFileClip(audio_file))\n",
    "\n",
    "    # Calculate the lip position to frame mapping.\n",
    "    lip_position_mapping = np.linspace(0, len(lip_positions) - 1, len(audio_array))\n",
    "\n",
    "    # Adjust lip position values to fit the audio array length.\n",
    "    scaled_lip_positions = np.interp(\n",
    "        np.arange(len(audio_array)),\n",
    "        np.arange(len(lip_positions)),\n",
    "        lip_position_mapping\n",
    "    )\n",
    "\n",
    "    # Apply lip position adjustments to the video frames.\n",
    "    def apply_lip_position(frame, lip_position):\n",
    "        adjusted_frame = frame.copy()\n",
    "        adjusted_frame[y_start:y_end, x_start:x_end] += lip_position\n",
    "        return adjusted_frame\n",
    "\n",
    "    lip_synced_frames = [\n",
    "        apply_lip_position(frame, lip_positions[int(pos)])\n",
    "        for pos, frame in zip(scaled_lip_positions, video_frames)\n",
    "    ]\n",
    "\n",
    "    # Create a video clip from the lip-synced frames.\n",
    "    lip_synced_video_clip = mpy.ImageSequenceClip(lip_synced_frames, fps=video_clip.fps)\n",
    "\n",
    "    # Save the resulting video clip.\n",
    "    final_clip = mpy.concatenate_videoclips([video_clip, lip_synced_video_clip])\n",
    "    final_clip.write_videofile(\"output.mp4\", codec=\"libx264\")\n",
    "\n",
    "if __name__ == \"__main__\":\n",
    "    video_clip = mpy.VideoFileClip(\"/home/fx/vikram_7-8/query/Change_Audio_Video/data/eng_clip.mp4\")\n",
    "    audio_file = \"audio.wav\"\n",
    "    lip_sync(video_clip, audio_file)"
   ]
  }
 ],
 "metadata": {
  "kernelspec": {
   "display_name": "Python 3 (ipykernel)",
   "language": "python",
   "name": "python3"
  },
  "language_info": {
   "codemirror_mode": {
    "name": "ipython",
    "version": 3
   },
   "file_extension": ".py",
   "mimetype": "text/x-python",
   "name": "python",
   "nbconvert_exporter": "python",
   "pygments_lexer": "ipython3",
   "version": "3.10.12"
  }
 },
 "nbformat": 4,
 "nbformat_minor": 5
}
