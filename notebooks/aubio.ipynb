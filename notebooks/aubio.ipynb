{
 "cells": [
  {
   "cell_type": "code",
   "execution_count": 1,
   "id": "de6f3474-6203-4c96-b993-76335828d829",
   "metadata": {},
   "outputs": [
    {
     "name": "stdout",
     "output_type": "stream",
     "text": [
      "Defaulting to user installation because normal site-packages is not writeable\n",
      "Collecting aubio\n",
      "  Downloading aubio-0.4.9.tar.gz (479 kB)\n",
      "\u001b[2K     \u001b[38;2;114;156;31m━━━━━━━━━━━━━━━━━━━━━━━━━━━━━━━━━━━━━\u001b[0m \u001b[32m479.0/479.0 kB\u001b[0m \u001b[31m874.8 kB/s\u001b[0m eta \u001b[36m0:00:00\u001b[0m1m871.1 kB/s\u001b[0m eta \u001b[36m0:00:01\u001b[0m\n",
      "\u001b[?25h  Preparing metadata (setup.py) ... \u001b[?25ldone\n",
      "\u001b[?25hRequirement already satisfied: numpy in /home/fx/.local/lib/python3.10/site-packages (from aubio) (1.24.4)\n",
      "Building wheels for collected packages: aubio\n",
      "  Building wheel for aubio (setup.py) ... \u001b[?25ldone\n",
      "\u001b[?25h  Created wheel for aubio: filename=aubio-0.4.9-cp310-cp310-linux_x86_64.whl size=380407 sha256=77f95a801a81390cb17de48ca81685858ef99243c3cc79debe45ce26b14df906\n",
      "  Stored in directory: /home/fx/.cache/pip/wheels/00/30/30/a06fe7e9c7fe740486c219851b2bc1c7ed4a97e9c257efd3d7\n",
      "Successfully built aubio\n",
      "\u001b[33mDEPRECATION: distro-info 1.1build1 has a non-standard version number. pip 23.3 will enforce this behaviour change. A possible replacement is to upgrade to a newer version of distro-info or contact the author to suggest that they release a version with a conforming version number. Discussion can be found at https://github.com/pypa/pip/issues/12063\u001b[0m\u001b[33m\n",
      "\u001b[0m\u001b[33mDEPRECATION: python-debian 0.1.43ubuntu1 has a non-standard version number. pip 23.3 will enforce this behaviour change. A possible replacement is to upgrade to a newer version of python-debian or contact the author to suggest that they release a version with a conforming version number. Discussion can be found at https://github.com/pypa/pip/issues/12063\u001b[0m\u001b[33m\n",
      "\u001b[0mInstalling collected packages: aubio\n",
      "Successfully installed aubio-0.4.9\n"
     ]
    }
   ],
   "source": [
    "!pip install aubio"
   ]
  },
  {
   "cell_type": "code",
   "execution_count": 1,
   "id": "a7e1f2a1-d139-4343-9d02-e451bb40a2b2",
   "metadata": {},
   "outputs": [
    {
     "data": {
      "text/plain": [
       "<_io.BufferedRandom name='output_audio.wav'>"
      ]
     },
     "execution_count": 1,
     "metadata": {},
     "output_type": "execute_result"
    }
   ],
   "source": [
    "from pydub import AudioSegment\n",
    "from pydub.playback import play\n",
    "\n",
    "video_path = '/home/fx/vikram_7-8/query/Change_Audio_Video/data/eng_clip.mp4'\n",
    "audio = AudioSegment.from_file(video_path)\n",
    "\n",
    "output_audio_path = 'output_audio.wav'\n",
    "audio.export(output_audio_path, format='wav')"
   ]
  },
  {
   "cell_type": "code",
   "execution_count": 2,
   "id": "1cbb7da9-f480-48f6-b6cd-a811f86a8141",
   "metadata": {},
   "outputs": [
    {
     "ename": "AttributeError",
     "evalue": "No librosa.feature attribute pitch",
     "output_type": "error",
     "traceback": [
      "\u001b[0;31m---------------------------------------------------------------------------\u001b[0m",
      "\u001b[0;31mAttributeError\u001b[0m                            Traceback (most recent call last)",
      "Cell \u001b[0;32mIn[2], line 34\u001b[0m\n\u001b[1;32m     31\u001b[0m audio_file \u001b[38;5;241m=\u001b[39m \u001b[38;5;124m\"\u001b[39m\u001b[38;5;124moutput_audio.wav\u001b[39m\u001b[38;5;124m\"\u001b[39m\n\u001b[1;32m     33\u001b[0m \u001b[38;5;66;03m# Get the timestamps of the words in the audio file.\u001b[39;00m\n\u001b[0;32m---> 34\u001b[0m timestamps \u001b[38;5;241m=\u001b[39m \u001b[43mget_timestamps\u001b[49m\u001b[43m(\u001b[49m\u001b[43maudio_file\u001b[49m\u001b[43m)\u001b[49m\n\u001b[1;32m     36\u001b[0m \u001b[38;5;66;03m# Print the timestamps.\u001b[39;00m\n\u001b[1;32m     37\u001b[0m \u001b[38;5;28;01mfor\u001b[39;00m timestamp \u001b[38;5;129;01min\u001b[39;00m timestamps:\n",
      "Cell \u001b[0;32mIn[2], line 19\u001b[0m, in \u001b[0;36mget_timestamps\u001b[0;34m(audio_file)\u001b[0m\n\u001b[1;32m     15\u001b[0m \u001b[38;5;66;03m# Iterate over the audio frames.\u001b[39;00m\n\u001b[1;32m     16\u001b[0m \u001b[38;5;28;01mfor\u001b[39;00m frame \u001b[38;5;129;01min\u001b[39;00m stream:\n\u001b[1;32m     17\u001b[0m \n\u001b[1;32m     18\u001b[0m   \u001b[38;5;66;03m# Get the pitch of the current frame.\u001b[39;00m\n\u001b[0;32m---> 19\u001b[0m   pitch_value \u001b[38;5;241m=\u001b[39m \u001b[43mlibrosa\u001b[49m\u001b[38;5;241;43m.\u001b[39;49m\u001b[43mfeature\u001b[49m\u001b[38;5;241;43m.\u001b[39;49m\u001b[43mpitch\u001b[49m(frame)\n\u001b[1;32m     21\u001b[0m   \u001b[38;5;66;03m# If the pitch is above a certain threshold, we consider it to be a word.\u001b[39;00m\n\u001b[1;32m     22\u001b[0m   \u001b[38;5;28;01mif\u001b[39;00m pitch_value \u001b[38;5;241m>\u001b[39m \u001b[38;5;241m0.5\u001b[39m:\n",
      "File \u001b[0;32m~/.local/lib/python3.10/site-packages/lazy_loader/__init__.py:89\u001b[0m, in \u001b[0;36mattach.<locals>.__getattr__\u001b[0;34m(name)\u001b[0m\n\u001b[1;32m     87\u001b[0m     \u001b[38;5;28;01mreturn\u001b[39;00m attr\n\u001b[1;32m     88\u001b[0m \u001b[38;5;28;01melse\u001b[39;00m:\n\u001b[0;32m---> 89\u001b[0m     \u001b[38;5;28;01mraise\u001b[39;00m \u001b[38;5;167;01mAttributeError\u001b[39;00m(\u001b[38;5;124mf\u001b[39m\u001b[38;5;124m\"\u001b[39m\u001b[38;5;124mNo \u001b[39m\u001b[38;5;132;01m{\u001b[39;00mpackage_name\u001b[38;5;132;01m}\u001b[39;00m\u001b[38;5;124m attribute \u001b[39m\u001b[38;5;132;01m{\u001b[39;00mname\u001b[38;5;132;01m}\u001b[39;00m\u001b[38;5;124m\"\u001b[39m)\n",
      "\u001b[0;31mAttributeError\u001b[0m: No librosa.feature attribute pitch"
     ]
    }
   ],
   "source": []
  },
  {
   "cell_type": "code",
   "execution_count": null,
   "id": "2d80deb3-686d-43f3-88f6-318d4f42ea6f",
   "metadata": {},
   "outputs": [],
   "source": []
  }
 ],
 "metadata": {
  "kernelspec": {
   "display_name": "Python 3 (ipykernel)",
   "language": "python",
   "name": "python3"
  },
  "language_info": {
   "codemirror_mode": {
    "name": "ipython",
    "version": 3
   },
   "file_extension": ".py",
   "mimetype": "text/x-python",
   "name": "python",
   "nbconvert_exporter": "python",
   "pygments_lexer": "ipython3",
   "version": "3.10.12"
  }
 },
 "nbformat": 4,
 "nbformat_minor": 5
}
